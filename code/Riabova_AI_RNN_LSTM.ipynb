{
  "cells": [
    {
      "cell_type": "code",
      "execution_count": 13,
      "metadata": {
        "colab": {
          "base_uri": "https://localhost:8080/",
          "height": 366
        },
        "id": "cmg4yVg2q2MD",
        "outputId": "6caafded-827c-448f-dbee-31e26223b320"
      },
      "outputs": [],
      "source": [
        "import numpy as np\n",
        "import matplotlib.pyplot as plt\n",
        "import pandas as pd\n",
        "import requests\n",
        "import tensorflow as tf\n",
        "from sklearn.preprocessing import MinMaxScaler\n",
        "import scipy.cluster.hierarchy as sch\n",
        "from scipy.spatial.distance import pdist\n",
        "from scipy.special import comb\n",
        "import sklearn.cluster as cluster"
      ]
    },
    {
      "cell_type": "markdown",
      "metadata": {
        "id": "dJQ0_EyAgV1D"
      },
      "source": [
        "## Google Stock Price data"
      ]
    },
    {
      "cell_type": "markdown",
      "metadata": {
        "id": "zJ54xfNx6Pa1"
      },
      "source": [
        "### Train data"
      ]
    },
    {
      "cell_type": "code",
      "execution_count": 15,
      "metadata": {
        "id": "Z5-Y4ex6rh0r"
      },
      "outputs": [],
      "source": [
        "data_train = pd.read_csv('..\\data\\Google_Stock_Price_Train.csv')"
      ]
    },
    {
      "cell_type": "code",
      "execution_count": 17,
      "metadata": {
        "colab": {
          "base_uri": "https://localhost:8080/",
          "height": 198
        },
        "id": "8oiv-J9hs7IU",
        "outputId": "79198750-7c3e-4f62-ee06-b4450fa73525"
      },
      "outputs": [
        {
          "data": {
            "text/html": [
              "<div>\n",
              "<style scoped>\n",
              "    .dataframe tbody tr th:only-of-type {\n",
              "        vertical-align: middle;\n",
              "    }\n",
              "\n",
              "    .dataframe tbody tr th {\n",
              "        vertical-align: top;\n",
              "    }\n",
              "\n",
              "    .dataframe thead th {\n",
              "        text-align: right;\n",
              "    }\n",
              "</style>\n",
              "<table border=\"1\" class=\"dataframe\">\n",
              "  <thead>\n",
              "    <tr style=\"text-align: right;\">\n",
              "      <th></th>\n",
              "      <th>Date</th>\n",
              "      <th>Open</th>\n",
              "      <th>High</th>\n",
              "      <th>Low</th>\n",
              "      <th>Close</th>\n",
              "      <th>Volume</th>\n",
              "    </tr>\n",
              "  </thead>\n",
              "  <tbody>\n",
              "    <tr>\n",
              "      <th>1253</th>\n",
              "      <td>12/23/2016</td>\n",
              "      <td>790.90</td>\n",
              "      <td>792.74</td>\n",
              "      <td>787.28</td>\n",
              "      <td>789.91</td>\n",
              "      <td>623,400</td>\n",
              "    </tr>\n",
              "    <tr>\n",
              "      <th>1254</th>\n",
              "      <td>12/27/2016</td>\n",
              "      <td>790.68</td>\n",
              "      <td>797.86</td>\n",
              "      <td>787.66</td>\n",
              "      <td>791.55</td>\n",
              "      <td>789,100</td>\n",
              "    </tr>\n",
              "    <tr>\n",
              "      <th>1255</th>\n",
              "      <td>12/28/2016</td>\n",
              "      <td>793.70</td>\n",
              "      <td>794.23</td>\n",
              "      <td>783.20</td>\n",
              "      <td>785.05</td>\n",
              "      <td>1,153,800</td>\n",
              "    </tr>\n",
              "    <tr>\n",
              "      <th>1256</th>\n",
              "      <td>12/29/2016</td>\n",
              "      <td>783.33</td>\n",
              "      <td>785.93</td>\n",
              "      <td>778.92</td>\n",
              "      <td>782.79</td>\n",
              "      <td>744,300</td>\n",
              "    </tr>\n",
              "    <tr>\n",
              "      <th>1257</th>\n",
              "      <td>12/30/2016</td>\n",
              "      <td>782.75</td>\n",
              "      <td>782.78</td>\n",
              "      <td>770.41</td>\n",
              "      <td>771.82</td>\n",
              "      <td>1,770,000</td>\n",
              "    </tr>\n",
              "  </tbody>\n",
              "</table>\n",
              "</div>"
            ],
            "text/plain": [
              "            Date    Open    High     Low   Close     Volume\n",
              "1253  12/23/2016  790.90  792.74  787.28  789.91    623,400\n",
              "1254  12/27/2016  790.68  797.86  787.66  791.55    789,100\n",
              "1255  12/28/2016  793.70  794.23  783.20  785.05  1,153,800\n",
              "1256  12/29/2016  783.33  785.93  778.92  782.79    744,300\n",
              "1257  12/30/2016  782.75  782.78  770.41  771.82  1,770,000"
            ]
          },
          "execution_count": 17,
          "metadata": {},
          "output_type": "execute_result"
        }
      ],
      "source": [
        "data_train.tail()"
      ]
    },
    {
      "cell_type": "code",
      "execution_count": 19,
      "metadata": {
        "id": "-J4G0xBjvhw8"
      },
      "outputs": [],
      "source": [
        "training_set = data_train.iloc[:,1:2].values"
      ]
    },
    {
      "cell_type": "code",
      "execution_count": 20,
      "metadata": {
        "id": "N_WlLhOMvxUn"
      },
      "outputs": [],
      "source": [
        "sc = MinMaxScaler()\n",
        "training_set_scaled = sc.fit_transform(training_set)"
      ]
    },
    {
      "cell_type": "code",
      "execution_count": 21,
      "metadata": {
        "id": "aZmBrBr1vzT4"
      },
      "outputs": [],
      "source": [
        "x_train = []\n",
        "y_train = []\n",
        "for i in range(60, len(data_train)):\n",
        "    x_train.append(training_set_scaled[i-60:i, 0])\n",
        "    y_train.append(training_set_scaled[i, 0])\n",
        "x_train, y_train = np.array(x_train), np.array(y_train)\n",
        "\n",
        "x_train = np.reshape(x_train, (x_train.shape[0], x_train.shape[1], 1))"
      ]
    },
    {
      "cell_type": "code",
      "execution_count": 22,
      "metadata": {
        "id": "syuq6q92gV1e",
        "outputId": "61d12c14-e376-4a5f-e369-aa1ec6e1a7bd"
      },
      "outputs": [
        {
          "data": {
            "text/plain": [
              "(1198, 60, 1)"
            ]
          },
          "execution_count": 22,
          "metadata": {},
          "output_type": "execute_result"
        }
      ],
      "source": [
        "x_train.shape"
      ]
    },
    {
      "cell_type": "markdown",
      "metadata": {
        "id": "8Z6zbF5k6VlV"
      },
      "source": [
        "### RNN"
      ]
    },
    {
      "cell_type": "code",
      "execution_count": 23,
      "metadata": {
        "id": "HWnby6MjgV1i",
        "outputId": "87901d62-2a9c-4222-a496-2b99b30f929f"
      },
      "outputs": [
        {
          "data": {
            "text/plain": [
              "60"
            ]
          },
          "execution_count": 23,
          "metadata": {},
          "output_type": "execute_result"
        }
      ],
      "source": [
        "x_train.shape[1]"
      ]
    },
    {
      "cell_type": "code",
      "execution_count": null,
      "metadata": {
        "id": "yQRtzdozz5nP"
      },
      "outputs": [],
      "source": [
        "#initiaizing RNN\n",
        "regressor = tf.keras.models.Sequential()\n",
        "regressor.add(tf.keras.layers.LSTM(units=50, return_sequences=True, input_shape=(x_train.shape[1],1)))\n",
        "regressor.add(tf.keras.layers.Dropout(0.2))\n",
        "regressor.add(tf.keras.layers.LSTM(units=50, return_sequences=True))\n",
        "regressor.add(tf.keras.layers.Dropout(0.2))\n",
        "regressor.add(tf.keras.layers.LSTM(units=50, return_sequences=True))\n",
        "regressor.add(tf.keras.layers.Dropout(0.2))\n",
        "regressor.add(tf.keras.layers.LSTM(units=50))\n",
        "regressor.add(tf.keras.layers.Dropout(0.2))\n",
        "regressor.add(tf.keras.layers.Dense(units=1))\n",
        "regressor.compile(optimizer='adam', loss='mean_squared_error')"
      ]
    },
    {
      "cell_type": "code",
      "execution_count": null,
      "metadata": {
        "id": "MdmcrmU4vjhr"
      },
      "outputs": [],
      "source": [
        "regressor.fit(x_train, y_train, epochs=100, batch_size=32)"
      ]
    },
    {
      "cell_type": "markdown",
      "metadata": {
        "id": "YPKiHZab6YfX"
      },
      "source": [
        "### Test data"
      ]
    },
    {
      "cell_type": "code",
      "execution_count": null,
      "metadata": {
        "id": "7jYFAx41v8NQ"
      },
      "outputs": [],
      "source": [
        "data_test = pd.read_csv('Google_Stock_Price_Test.csv')"
      ]
    },
    {
      "cell_type": "code",
      "execution_count": null,
      "metadata": {
        "id": "TT3nPJhK6f6E"
      },
      "outputs": [],
      "source": [
        "real_stock_price = data_test.iloc[:,1:2].values"
      ]
    },
    {
      "cell_type": "code",
      "execution_count": null,
      "metadata": {
        "colab": {
          "base_uri": "https://localhost:8080/",
          "height": 35
        },
        "id": "EcRVJcXs8PtA",
        "outputId": "f22ed910-f23e-48f8-9cdc-414c3bc84023"
      },
      "outputs": [
        {
          "data": {
            "text/plain": [
              "20"
            ]
          },
          "execution_count": 13,
          "metadata": {
            "tags": []
          },
          "output_type": "execute_result"
        }
      ],
      "source": [
        "len(data_test)"
      ]
    },
    {
      "cell_type": "markdown",
      "metadata": {
        "id": "0YNXE0g0_7LF"
      },
      "source": [
        "### Prediction"
      ]
    },
    {
      "cell_type": "code",
      "execution_count": null,
      "metadata": {
        "id": "07KYOPQh6zLI"
      },
      "outputs": [],
      "source": [
        "dataset_total = pd.concat((data_train['Open'], data_test['Open']), axis=0)\n",
        "inputs = dataset_total[len(dataset_total) - len(data_test) - 60:].values\n",
        "inputs = inputs.reshape(-1,1)\n",
        "inputs = sc.transform(inputs)\n",
        "x_test = []\n",
        "for i in range(60, 80):\n",
        "    x_test.append(inputs[i-60:i, 0])\n",
        "x_test = np.array(x_test)\n",
        "x_test = np.reshape(x_test, (x_test.shape[0], x_test.shape[1], 1))\n",
        "predicted_stock_price = regressor.predict(x_test)\n",
        "predicted_stock_price = sc.inverse_transform(predicted_stock_price)"
      ]
    },
    {
      "cell_type": "code",
      "execution_count": null,
      "metadata": {
        "colab": {
          "base_uri": "https://localhost:8080/",
          "height": 295
        },
        "id": "Qfg5QJg__cLs",
        "outputId": "af0cde6f-a634-4cdf-d2f9-f8bd81a6fada"
      },
      "outputs": [
        {
          "data": {
            "image/png": "[encoded data removed]",
            "text/plain": [
              "<matplotlib.figure.Figure at 0x102e0908>"
            ]
          },
          "metadata": {
            "tags": []
          },
          "output_type": "display_data"
        }
      ],
      "source": [
        "plt.plot(real_stock_price, color='r', label='Real Google Stock Price')\n",
        "plt.plot(predicted_stock_price, color='b', label='Predicted Google Stock Price')\n",
        "plt.title('Google Stock Price Prediction')\n",
        "plt.xlabel('Time')\n",
        "plt.ylabel('Google Stock Price')\n",
        "plt.legend()\n",
        "plt.show()"
      ]
    },
    {
      "cell_type": "code",
      "execution_count": null,
      "metadata": {
        "id": "B8L7GP8BBKyv"
      },
      "outputs": [],
      "source": [
        "## COVID-19 data"
      ]
    },
    {
      "cell_type": "code",
      "execution_count": null,
      "metadata": {
        "id": "-VMfOGI-gV2F"
      },
      "outputs": [],
      "source": [
        "url = 'https://raw.githubusercontent.com/CSSEGISandData/COVID-19/master/csse_covid_19_data/csse_covid_19_time_series/time_series_covid19_confirmed_US.csv'\n",
        "s=requests.get(url).content\n",
        "data = pd.read_csv(url)"
      ]
    },
    {
      "cell_type": "code",
      "execution_count": null,
      "metadata": {
        "id": "b2BZVDdNgV2I",
        "outputId": "6b5d6525-8312-4d88-ed4a-a105672949d6"
      },
      "outputs": [
        {
          "data": {
            "text/html": [
              "<div>\n",
              "<style>\n",
              "    .dataframe thead tr:only-child th {\n",
              "        text-align: right;\n",
              "    }\n",
              "\n",
              "    .dataframe thead th {\n",
              "        text-align: left;\n",
              "    }\n",
              "\n",
              "    .dataframe tbody tr th {\n",
              "        vertical-align: top;\n",
              "    }\n",
              "</style>\n",
              "<table border=\"1\" class=\"dataframe\">\n",
              "  <thead>\n",
              "    <tr style=\"text-align: right;\">\n",
              "      <th></th>\n",
              "      <th>UID</th>\n",
              "      <th>iso2</th>\n",
              "      <th>iso3</th>\n",
              "      <th>code3</th>\n",
              "      <th>FIPS</th>\n",
              "      <th>Admin2</th>\n",
              "      <th>Province_State</th>\n",
              "      <th>Country_Region</th>\n",
              "      <th>Lat</th>\n",
              "      <th>Long_</th>\n",
              "      <th>...</th>\n",
              "      <th>4/11/20</th>\n",
              "      <th>4/12/20</th>\n",
              "      <th>4/13/20</th>\n",
              "      <th>4/14/20</th>\n",
              "      <th>4/15/20</th>\n",
              "      <th>4/16/20</th>\n",
              "      <th>4/17/20</th>\n",
              "      <th>4/18/20</th>\n",
              "      <th>4/19/20</th>\n",
              "      <th>4/20/20</th>\n",
              "    </tr>\n",
              "  </thead>\n",
              "  <tbody>\n",
              "    <tr>\n",
              "      <th>0</th>\n",
              "      <td>16</td>\n",
              "      <td>AS</td>\n",
              "      <td>ASM</td>\n",
              "      <td>16</td>\n",
              "      <td>60.0</td>\n",
              "      <td>NaN</td>\n",
              "      <td>American Samoa</td>\n",
              "      <td>US</td>\n",
              "      <td>-14.2710</td>\n",
              "      <td>-170.1320</td>\n",
              "      <td>...</td>\n",
              "      <td>0</td>\n",
              "      <td>0</td>\n",
              "      <td>0</td>\n",
              "      <td>0</td>\n",
              "      <td>0</td>\n",
              "      <td>0</td>\n",
              "      <td>0</td>\n",
              "      <td>0</td>\n",
              "      <td>0</td>\n",
              "      <td>0</td>\n",
              "    </tr>\n",
              "    <tr>\n",
              "      <th>1</th>\n",
              "      <td>316</td>\n",
              "      <td>GU</td>\n",
              "      <td>GUM</td>\n",
              "      <td>316</td>\n",
              "      <td>66.0</td>\n",
              "      <td>NaN</td>\n",
              "      <td>Guam</td>\n",
              "      <td>US</td>\n",
              "      <td>13.4443</td>\n",
              "      <td>144.7937</td>\n",
              "      <td>...</td>\n",
              "      <td>133</td>\n",
              "      <td>133</td>\n",
              "      <td>133</td>\n",
              "      <td>133</td>\n",
              "      <td>135</td>\n",
              "      <td>135</td>\n",
              "      <td>136</td>\n",
              "      <td>136</td>\n",
              "      <td>136</td>\n",
              "      <td>136</td>\n",
              "    </tr>\n",
              "    <tr>\n",
              "      <th>2</th>\n",
              "      <td>580</td>\n",
              "      <td>MP</td>\n",
              "      <td>MNP</td>\n",
              "      <td>580</td>\n",
              "      <td>69.0</td>\n",
              "      <td>NaN</td>\n",
              "      <td>Northern Mariana Islands</td>\n",
              "      <td>US</td>\n",
              "      <td>15.0979</td>\n",
              "      <td>145.6739</td>\n",
              "      <td>...</td>\n",
              "      <td>11</td>\n",
              "      <td>11</td>\n",
              "      <td>11</td>\n",
              "      <td>11</td>\n",
              "      <td>13</td>\n",
              "      <td>13</td>\n",
              "      <td>13</td>\n",
              "      <td>14</td>\n",
              "      <td>14</td>\n",
              "      <td>14</td>\n",
              "    </tr>\n",
              "    <tr>\n",
              "      <th>3</th>\n",
              "      <td>630</td>\n",
              "      <td>PR</td>\n",
              "      <td>PRI</td>\n",
              "      <td>630</td>\n",
              "      <td>72.0</td>\n",
              "      <td>NaN</td>\n",
              "      <td>Puerto Rico</td>\n",
              "      <td>US</td>\n",
              "      <td>18.2208</td>\n",
              "      <td>-66.5901</td>\n",
              "      <td>...</td>\n",
              "      <td>788</td>\n",
              "      <td>897</td>\n",
              "      <td>903</td>\n",
              "      <td>923</td>\n",
              "      <td>974</td>\n",
              "      <td>1043</td>\n",
              "      <td>1068</td>\n",
              "      <td>1118</td>\n",
              "      <td>1213</td>\n",
              "      <td>1252</td>\n",
              "    </tr>\n",
              "    <tr>\n",
              "      <th>4</th>\n",
              "      <td>850</td>\n",
              "      <td>VI</td>\n",
              "      <td>VIR</td>\n",
              "      <td>850</td>\n",
              "      <td>78.0</td>\n",
              "      <td>NaN</td>\n",
              "      <td>Virgin Islands</td>\n",
              "      <td>US</td>\n",
              "      <td>18.3358</td>\n",
              "      <td>-64.8963</td>\n",
              "      <td>...</td>\n",
              "      <td>51</td>\n",
              "      <td>51</td>\n",
              "      <td>51</td>\n",
              "      <td>51</td>\n",
              "      <td>51</td>\n",
              "      <td>51</td>\n",
              "      <td>51</td>\n",
              "      <td>53</td>\n",
              "      <td>53</td>\n",
              "      <td>53</td>\n",
              "    </tr>\n",
              "  </tbody>\n",
              "</table>\n",
              "<p>5 rows × 101 columns</p>\n",
              "</div>"
            ],
            "text/plain": [
              "   UID iso2 iso3  code3  FIPS Admin2            Province_State Country_Region  \\\n",
              "0   16   AS  ASM     16  60.0    NaN            American Samoa             US   \n",
              "1  316   GU  GUM    316  66.0    NaN                      Guam             US   \n",
              "2  580   MP  MNP    580  69.0    NaN  Northern Mariana Islands             US   \n",
              "3  630   PR  PRI    630  72.0    NaN               Puerto Rico             US   \n",
              "4  850   VI  VIR    850  78.0    NaN            Virgin Islands             US   \n",
              "\n",
              "       Lat     Long_   ...    4/11/20  4/12/20  4/13/20  4/14/20  4/15/20  \\\n",
              "0 -14.2710 -170.1320   ...          0        0        0        0        0   \n",
              "1  13.4443  144.7937   ...        133      133      133      133      135   \n",
              "2  15.0979  145.6739   ...         11       11       11       11       13   \n",
              "3  18.2208  -66.5901   ...        788      897      903      923      974   \n",
              "4  18.3358  -64.8963   ...         51       51       51       51       51   \n",
              "\n",
              "   4/16/20  4/17/20  4/18/20  4/19/20  4/20/20  \n",
              "0        0        0        0        0        0  \n",
              "1      135      136      136      136      136  \n",
              "2       13       13       14       14       14  \n",
              "3     1043     1068     1118     1213     1252  \n",
              "4       51       51       53       53       53  \n",
              "\n",
              "[5 rows x 101 columns]"
            ]
          },
          "execution_count": 5,
          "metadata": {
            "tags": []
          },
          "output_type": "execute_result"
        }
      ],
      "source": [
        "data.head()"
      ]
    },
    {
      "cell_type": "code",
      "execution_count": null,
      "metadata": {
        "id": "DyKGPo2ggV2M"
      },
      "outputs": [],
      "source": [
        "data = data[data['iso2'] == 'US']"
      ]
    },
    {
      "cell_type": "code",
      "execution_count": null,
      "metadata": {
        "id": "cvBjVigXgV2Q"
      },
      "outputs": [],
      "source": [
        "data_state = data.groupby('Province_State').sum().reset_index()"
      ]
    },
    {
      "cell_type": "code",
      "execution_count": null,
      "metadata": {
        "id": "twi9zaNggV2U",
        "outputId": "52926a1f-1b9a-4a8c-83b1-4df75bc93c21"
      },
      "outputs": [
        {
          "data": {
            "text/html": [
              "<div>\n",
              "<style>\n",
              "    .dataframe thead tr:only-child th {\n",
              "        text-align: right;\n",
              "    }\n",
              "\n",
              "    .dataframe thead th {\n",
              "        text-align: left;\n",
              "    }\n",
              "\n",
              "    .dataframe tbody tr th {\n",
              "        vertical-align: top;\n",
              "    }\n",
              "</style>\n",
              "<table border=\"1\" class=\"dataframe\">\n",
              "  <thead>\n",
              "    <tr style=\"text-align: right;\">\n",
              "      <th></th>\n",
              "      <th>Province_State</th>\n",
              "      <th>UID</th>\n",
              "      <th>code3</th>\n",
              "      <th>FIPS</th>\n",
              "      <th>Lat</th>\n",
              "      <th>Long_</th>\n",
              "      <th>1/22/20</th>\n",
              "      <th>1/23/20</th>\n",
              "      <th>1/24/20</th>\n",
              "      <th>1/25/20</th>\n",
              "      <th>...</th>\n",
              "      <th>4/11/20</th>\n",
              "      <th>4/12/20</th>\n",
              "      <th>4/13/20</th>\n",
              "      <th>4/14/20</th>\n",
              "      <th>4/15/20</th>\n",
              "      <th>4/16/20</th>\n",
              "      <th>4/17/20</th>\n",
              "      <th>4/18/20</th>\n",
              "      <th>4/19/20</th>\n",
              "      <th>4/20/20</th>\n",
              "    </tr>\n",
              "  </thead>\n",
              "  <tbody>\n",
              "    <tr>\n",
              "      <th>0</th>\n",
              "      <td>Alabama</td>\n",
              "      <td>5796241491</td>\n",
              "      <td>57960</td>\n",
              "      <td>241491.0</td>\n",
              "      <td>2203.246784</td>\n",
              "      <td>-5809.578199</td>\n",
              "      <td>0</td>\n",
              "      <td>0</td>\n",
              "      <td>0</td>\n",
              "      <td>0</td>\n",
              "      <td>...</td>\n",
              "      <td>3217</td>\n",
              "      <td>3563</td>\n",
              "      <td>3734</td>\n",
              "      <td>3953</td>\n",
              "      <td>4075</td>\n",
              "      <td>4345</td>\n",
              "      <td>4571</td>\n",
              "      <td>4712</td>\n",
              "      <td>4888</td>\n",
              "      <td>5079</td>\n",
              "    </tr>\n",
              "    <tr>\n",
              "      <th>1</th>\n",
              "      <td>Alaska</td>\n",
              "      <td>2604232344</td>\n",
              "      <td>26040</td>\n",
              "      <td>232344.0</td>\n",
              "      <td>1747.579877</td>\n",
              "      <td>-4229.319334</td>\n",
              "      <td>0</td>\n",
              "      <td>0</td>\n",
              "      <td>0</td>\n",
              "      <td>0</td>\n",
              "      <td>...</td>\n",
              "      <td>257</td>\n",
              "      <td>272</td>\n",
              "      <td>277</td>\n",
              "      <td>285</td>\n",
              "      <td>293</td>\n",
              "      <td>300</td>\n",
              "      <td>309</td>\n",
              "      <td>314</td>\n",
              "      <td>319</td>\n",
              "      <td>321</td>\n",
              "    </tr>\n",
              "    <tr>\n",
              "      <th>2</th>\n",
              "      <td>Arizona</td>\n",
              "      <td>1428230216</td>\n",
              "      <td>14280</td>\n",
              "      <td>230216.0</td>\n",
              "      <td>505.138555</td>\n",
              "      <td>-1671.948482</td>\n",
              "      <td>0</td>\n",
              "      <td>0</td>\n",
              "      <td>0</td>\n",
              "      <td>0</td>\n",
              "      <td>...</td>\n",
              "      <td>3393</td>\n",
              "      <td>3542</td>\n",
              "      <td>3705</td>\n",
              "      <td>3809</td>\n",
              "      <td>3964</td>\n",
              "      <td>4237</td>\n",
              "      <td>4511</td>\n",
              "      <td>4724</td>\n",
              "      <td>4933</td>\n",
              "      <td>5068</td>\n",
              "    </tr>\n",
              "    <tr>\n",
              "      <th>3</th>\n",
              "      <td>Arkansas</td>\n",
              "      <td>6468550635</td>\n",
              "      <td>64680</td>\n",
              "      <td>550635.0</td>\n",
              "      <td>2618.391704</td>\n",
              "      <td>-6932.548370</td>\n",
              "      <td>0</td>\n",
              "      <td>0</td>\n",
              "      <td>0</td>\n",
              "      <td>0</td>\n",
              "      <td>...</td>\n",
              "      <td>1228</td>\n",
              "      <td>1280</td>\n",
              "      <td>1410</td>\n",
              "      <td>1498</td>\n",
              "      <td>1569</td>\n",
              "      <td>1620</td>\n",
              "      <td>1695</td>\n",
              "      <td>1744</td>\n",
              "      <td>1781</td>\n",
              "      <td>1973</td>\n",
              "    </tr>\n",
              "    <tr>\n",
              "      <th>4</th>\n",
              "      <td>California</td>\n",
              "      <td>5040521376</td>\n",
              "      <td>50400</td>\n",
              "      <td>521376.0</td>\n",
              "      <td>2194.949775</td>\n",
              "      <td>-7002.258461</td>\n",
              "      <td>0</td>\n",
              "      <td>0</td>\n",
              "      <td>0</td>\n",
              "      <td>0</td>\n",
              "      <td>...</td>\n",
              "      <td>21706</td>\n",
              "      <td>22795</td>\n",
              "      <td>23931</td>\n",
              "      <td>25356</td>\n",
              "      <td>26686</td>\n",
              "      <td>27677</td>\n",
              "      <td>29157</td>\n",
              "      <td>30491</td>\n",
              "      <td>31431</td>\n",
              "      <td>33686</td>\n",
              "    </tr>\n",
              "  </tbody>\n",
              "</table>\n",
              "<p>5 rows × 96 columns</p>\n",
              "</div>"
            ],
            "text/plain": [
              "  Province_State         UID  code3      FIPS          Lat        Long_  \\\n",
              "0        Alabama  5796241491  57960  241491.0  2203.246784 -5809.578199   \n",
              "1         Alaska  2604232344  26040  232344.0  1747.579877 -4229.319334   \n",
              "2        Arizona  1428230216  14280  230216.0   505.138555 -1671.948482   \n",
              "3       Arkansas  6468550635  64680  550635.0  2618.391704 -6932.548370   \n",
              "4     California  5040521376  50400  521376.0  2194.949775 -7002.258461   \n",
              "\n",
              "   1/22/20  1/23/20  1/24/20  1/25/20   ...     4/11/20  4/12/20  4/13/20  \\\n",
              "0        0        0        0        0   ...        3217     3563     3734   \n",
              "1        0        0        0        0   ...         257      272      277   \n",
              "2        0        0        0        0   ...        3393     3542     3705   \n",
              "3        0        0        0        0   ...        1228     1280     1410   \n",
              "4        0        0        0        0   ...       21706    22795    23931   \n",
              "\n",
              "   4/14/20  4/15/20  4/16/20  4/17/20  4/18/20  4/19/20  4/20/20  \n",
              "0     3953     4075     4345     4571     4712     4888     5079  \n",
              "1      285      293      300      309      314      319      321  \n",
              "2     3809     3964     4237     4511     4724     4933     5068  \n",
              "3     1498     1569     1620     1695     1744     1781     1973  \n",
              "4    25356    26686    27677    29157    30491    31431    33686  \n",
              "\n",
              "[5 rows x 96 columns]"
            ]
          },
          "execution_count": 8,
          "metadata": {
            "tags": []
          },
          "output_type": "execute_result"
        }
      ],
      "source": [
        "data_state.head()"
      ]
    },
    {
      "cell_type": "code",
      "execution_count": null,
      "metadata": {
        "id": "YT3hGbgagV2X"
      },
      "outputs": [],
      "source": [
        "data_deltas = pd.DataFrame(data_state['Province_State'])\n",
        "for i in range(7,len(data_state.columns)):     #check index with df form\n",
        "    data_deltas[data_state.columns[i]] = data_state[data_state.columns[i]] - data_state[data_state.columns[i-1]]"
      ]
    },
    {
      "cell_type": "code",
      "execution_count": null,
      "metadata": {
        "id": "n34V4s6rgV2d",
        "outputId": "315e964e-88dd-4f73-bca9-78d00414a0f4"
      },
      "outputs": [
        {
          "data": {
            "text/html": [
              "<div>\n",
              "<style>\n",
              "    .dataframe thead tr:only-child th {\n",
              "        text-align: right;\n",
              "    }\n",
              "\n",
              "    .dataframe thead th {\n",
              "        text-align: left;\n",
              "    }\n",
              "\n",
              "    .dataframe tbody tr th {\n",
              "        vertical-align: top;\n",
              "    }\n",
              "</style>\n",
              "<table border=\"1\" class=\"dataframe\">\n",
              "  <thead>\n",
              "    <tr style=\"text-align: right;\">\n",
              "      <th></th>\n",
              "      <th>Province_State</th>\n",
              "      <th>1/23/20</th>\n",
              "      <th>1/24/20</th>\n",
              "      <th>1/25/20</th>\n",
              "      <th>1/26/20</th>\n",
              "      <th>1/27/20</th>\n",
              "      <th>1/28/20</th>\n",
              "      <th>1/29/20</th>\n",
              "      <th>1/30/20</th>\n",
              "      <th>1/31/20</th>\n",
              "      <th>...</th>\n",
              "      <th>4/11/20</th>\n",
              "      <th>4/12/20</th>\n",
              "      <th>4/13/20</th>\n",
              "      <th>4/14/20</th>\n",
              "      <th>4/15/20</th>\n",
              "      <th>4/16/20</th>\n",
              "      <th>4/17/20</th>\n",
              "      <th>4/18/20</th>\n",
              "      <th>4/19/20</th>\n",
              "      <th>4/20/20</th>\n",
              "    </tr>\n",
              "  </thead>\n",
              "  <tbody>\n",
              "    <tr>\n",
              "      <th>0</th>\n",
              "      <td>Alabama</td>\n",
              "      <td>0</td>\n",
              "      <td>0</td>\n",
              "      <td>0</td>\n",
              "      <td>0</td>\n",
              "      <td>0</td>\n",
              "      <td>0</td>\n",
              "      <td>0</td>\n",
              "      <td>0</td>\n",
              "      <td>0</td>\n",
              "      <td>...</td>\n",
              "      <td>270</td>\n",
              "      <td>346</td>\n",
              "      <td>171</td>\n",
              "      <td>219</td>\n",
              "      <td>122</td>\n",
              "      <td>270</td>\n",
              "      <td>226</td>\n",
              "      <td>141</td>\n",
              "      <td>176</td>\n",
              "      <td>191</td>\n",
              "    </tr>\n",
              "    <tr>\n",
              "      <th>1</th>\n",
              "      <td>Alaska</td>\n",
              "      <td>0</td>\n",
              "      <td>0</td>\n",
              "      <td>0</td>\n",
              "      <td>0</td>\n",
              "      <td>0</td>\n",
              "      <td>0</td>\n",
              "      <td>0</td>\n",
              "      <td>0</td>\n",
              "      <td>0</td>\n",
              "      <td>...</td>\n",
              "      <td>11</td>\n",
              "      <td>15</td>\n",
              "      <td>5</td>\n",
              "      <td>8</td>\n",
              "      <td>8</td>\n",
              "      <td>7</td>\n",
              "      <td>9</td>\n",
              "      <td>5</td>\n",
              "      <td>5</td>\n",
              "      <td>2</td>\n",
              "    </tr>\n",
              "    <tr>\n",
              "      <th>2</th>\n",
              "      <td>Arizona</td>\n",
              "      <td>0</td>\n",
              "      <td>0</td>\n",
              "      <td>0</td>\n",
              "      <td>1</td>\n",
              "      <td>0</td>\n",
              "      <td>0</td>\n",
              "      <td>0</td>\n",
              "      <td>0</td>\n",
              "      <td>0</td>\n",
              "      <td>...</td>\n",
              "      <td>281</td>\n",
              "      <td>149</td>\n",
              "      <td>163</td>\n",
              "      <td>104</td>\n",
              "      <td>155</td>\n",
              "      <td>273</td>\n",
              "      <td>274</td>\n",
              "      <td>213</td>\n",
              "      <td>209</td>\n",
              "      <td>135</td>\n",
              "    </tr>\n",
              "    <tr>\n",
              "      <th>3</th>\n",
              "      <td>Arkansas</td>\n",
              "      <td>0</td>\n",
              "      <td>0</td>\n",
              "      <td>0</td>\n",
              "      <td>0</td>\n",
              "      <td>0</td>\n",
              "      <td>0</td>\n",
              "      <td>0</td>\n",
              "      <td>0</td>\n",
              "      <td>0</td>\n",
              "      <td>...</td>\n",
              "      <td>57</td>\n",
              "      <td>52</td>\n",
              "      <td>130</td>\n",
              "      <td>88</td>\n",
              "      <td>71</td>\n",
              "      <td>51</td>\n",
              "      <td>75</td>\n",
              "      <td>49</td>\n",
              "      <td>37</td>\n",
              "      <td>192</td>\n",
              "    </tr>\n",
              "    <tr>\n",
              "      <th>4</th>\n",
              "      <td>California</td>\n",
              "      <td>0</td>\n",
              "      <td>0</td>\n",
              "      <td>0</td>\n",
              "      <td>2</td>\n",
              "      <td>0</td>\n",
              "      <td>0</td>\n",
              "      <td>0</td>\n",
              "      <td>0</td>\n",
              "      <td>1</td>\n",
              "      <td>...</td>\n",
              "      <td>625</td>\n",
              "      <td>1089</td>\n",
              "      <td>1136</td>\n",
              "      <td>1425</td>\n",
              "      <td>1330</td>\n",
              "      <td>991</td>\n",
              "      <td>1480</td>\n",
              "      <td>1334</td>\n",
              "      <td>940</td>\n",
              "      <td>2255</td>\n",
              "    </tr>\n",
              "  </tbody>\n",
              "</table>\n",
              "<p>5 rows × 90 columns</p>\n",
              "</div>"
            ],
            "text/plain": [
              "  Province_State  1/23/20  1/24/20  1/25/20  1/26/20  1/27/20  1/28/20  \\\n",
              "0        Alabama        0        0        0        0        0        0   \n",
              "1         Alaska        0        0        0        0        0        0   \n",
              "2        Arizona        0        0        0        1        0        0   \n",
              "3       Arkansas        0        0        0        0        0        0   \n",
              "4     California        0        0        0        2        0        0   \n",
              "\n",
              "   1/29/20  1/30/20  1/31/20   ...     4/11/20  4/12/20  4/13/20  4/14/20  \\\n",
              "0        0        0        0   ...         270      346      171      219   \n",
              "1        0        0        0   ...          11       15        5        8   \n",
              "2        0        0        0   ...         281      149      163      104   \n",
              "3        0        0        0   ...          57       52      130       88   \n",
              "4        0        0        1   ...         625     1089     1136     1425   \n",
              "\n",
              "   4/15/20  4/16/20  4/17/20  4/18/20  4/19/20  4/20/20  \n",
              "0      122      270      226      141      176      191  \n",
              "1        8        7        9        5        5        2  \n",
              "2      155      273      274      213      209      135  \n",
              "3       71       51       75       49       37      192  \n",
              "4     1330      991     1480     1334      940     2255  \n",
              "\n",
              "[5 rows x 90 columns]"
            ]
          },
          "execution_count": 12,
          "metadata": {
            "tags": []
          },
          "output_type": "execute_result"
        }
      ],
      "source": [
        "data_deltas.head()"
      ]
    },
    {
      "cell_type": "code",
      "execution_count": null,
      "metadata": {
        "id": "RFGd5IwLgV2h"
      },
      "outputs": [],
      "source": [
        "training_covid = data_deltas.iloc[:,1:]"
      ]
    },
    {
      "cell_type": "code",
      "execution_count": null,
      "metadata": {
        "id": "lIPYpevugV2l"
      },
      "outputs": [],
      "source": [
        "sc1 = MinMaxScaler()\n",
        "training_covid_scaled = sc1.fit_transform(training_covid)"
      ]
    },
    {
      "cell_type": "code",
      "execution_count": null,
      "metadata": {
        "id": "AESmw6R4gV2q",
        "outputId": "373410e0-8370-40ff-ad57-3d31f7f4e590"
      },
      "outputs": [
        {
          "data": {
            "text/html": [
              "<div>\n",
              "<style>\n",
              "    .dataframe thead tr:only-child th {\n",
              "        text-align: right;\n",
              "    }\n",
              "\n",
              "    .dataframe thead th {\n",
              "        text-align: left;\n",
              "    }\n",
              "\n",
              "    .dataframe tbody tr th {\n",
              "        vertical-align: top;\n",
              "    }\n",
              "</style>\n",
              "<table border=\"1\" class=\"dataframe\">\n",
              "  <thead>\n",
              "    <tr style=\"text-align: right;\">\n",
              "      <th></th>\n",
              "      <th>1/23/20</th>\n",
              "      <th>1/24/20</th>\n",
              "      <th>1/25/20</th>\n",
              "      <th>1/26/20</th>\n",
              "      <th>1/27/20</th>\n",
              "      <th>1/28/20</th>\n",
              "      <th>1/29/20</th>\n",
              "      <th>1/30/20</th>\n",
              "      <th>1/31/20</th>\n",
              "      <th>2/1/20</th>\n",
              "      <th>...</th>\n",
              "      <th>4/11/20</th>\n",
              "      <th>4/12/20</th>\n",
              "      <th>4/13/20</th>\n",
              "      <th>4/14/20</th>\n",
              "      <th>4/15/20</th>\n",
              "      <th>4/16/20</th>\n",
              "      <th>4/17/20</th>\n",
              "      <th>4/18/20</th>\n",
              "      <th>4/19/20</th>\n",
              "      <th>4/20/20</th>\n",
              "    </tr>\n",
              "  </thead>\n",
              "  <tbody>\n",
              "    <tr>\n",
              "      <th>0</th>\n",
              "      <td>0</td>\n",
              "      <td>0</td>\n",
              "      <td>0</td>\n",
              "      <td>0</td>\n",
              "      <td>0</td>\n",
              "      <td>0</td>\n",
              "      <td>0</td>\n",
              "      <td>0</td>\n",
              "      <td>0</td>\n",
              "      <td>0</td>\n",
              "      <td>...</td>\n",
              "      <td>270</td>\n",
              "      <td>346</td>\n",
              "      <td>171</td>\n",
              "      <td>219</td>\n",
              "      <td>122</td>\n",
              "      <td>270</td>\n",
              "      <td>226</td>\n",
              "      <td>141</td>\n",
              "      <td>176</td>\n",
              "      <td>191</td>\n",
              "    </tr>\n",
              "    <tr>\n",
              "      <th>1</th>\n",
              "      <td>0</td>\n",
              "      <td>0</td>\n",
              "      <td>0</td>\n",
              "      <td>0</td>\n",
              "      <td>0</td>\n",
              "      <td>0</td>\n",
              "      <td>0</td>\n",
              "      <td>0</td>\n",
              "      <td>0</td>\n",
              "      <td>0</td>\n",
              "      <td>...</td>\n",
              "      <td>11</td>\n",
              "      <td>15</td>\n",
              "      <td>5</td>\n",
              "      <td>8</td>\n",
              "      <td>8</td>\n",
              "      <td>7</td>\n",
              "      <td>9</td>\n",
              "      <td>5</td>\n",
              "      <td>5</td>\n",
              "      <td>2</td>\n",
              "    </tr>\n",
              "    <tr>\n",
              "      <th>2</th>\n",
              "      <td>0</td>\n",
              "      <td>0</td>\n",
              "      <td>0</td>\n",
              "      <td>1</td>\n",
              "      <td>0</td>\n",
              "      <td>0</td>\n",
              "      <td>0</td>\n",
              "      <td>0</td>\n",
              "      <td>0</td>\n",
              "      <td>0</td>\n",
              "      <td>...</td>\n",
              "      <td>281</td>\n",
              "      <td>149</td>\n",
              "      <td>163</td>\n",
              "      <td>104</td>\n",
              "      <td>155</td>\n",
              "      <td>273</td>\n",
              "      <td>274</td>\n",
              "      <td>213</td>\n",
              "      <td>209</td>\n",
              "      <td>135</td>\n",
              "    </tr>\n",
              "    <tr>\n",
              "      <th>3</th>\n",
              "      <td>0</td>\n",
              "      <td>0</td>\n",
              "      <td>0</td>\n",
              "      <td>0</td>\n",
              "      <td>0</td>\n",
              "      <td>0</td>\n",
              "      <td>0</td>\n",
              "      <td>0</td>\n",
              "      <td>0</td>\n",
              "      <td>0</td>\n",
              "      <td>...</td>\n",
              "      <td>57</td>\n",
              "      <td>52</td>\n",
              "      <td>130</td>\n",
              "      <td>88</td>\n",
              "      <td>71</td>\n",
              "      <td>51</td>\n",
              "      <td>75</td>\n",
              "      <td>49</td>\n",
              "      <td>37</td>\n",
              "      <td>192</td>\n",
              "    </tr>\n",
              "    <tr>\n",
              "      <th>4</th>\n",
              "      <td>0</td>\n",
              "      <td>0</td>\n",
              "      <td>0</td>\n",
              "      <td>2</td>\n",
              "      <td>0</td>\n",
              "      <td>0</td>\n",
              "      <td>0</td>\n",
              "      <td>0</td>\n",
              "      <td>1</td>\n",
              "      <td>0</td>\n",
              "      <td>...</td>\n",
              "      <td>625</td>\n",
              "      <td>1089</td>\n",
              "      <td>1136</td>\n",
              "      <td>1425</td>\n",
              "      <td>1330</td>\n",
              "      <td>991</td>\n",
              "      <td>1480</td>\n",
              "      <td>1334</td>\n",
              "      <td>940</td>\n",
              "      <td>2255</td>\n",
              "    </tr>\n",
              "  </tbody>\n",
              "</table>\n",
              "<p>5 rows × 89 columns</p>\n",
              "</div>"
            ],
            "text/plain": [
              "   1/23/20  1/24/20  1/25/20  1/26/20  1/27/20  1/28/20  1/29/20  1/30/20  \\\n",
              "0        0        0        0        0        0        0        0        0   \n",
              "1        0        0        0        0        0        0        0        0   \n",
              "2        0        0        0        1        0        0        0        0   \n",
              "3        0        0        0        0        0        0        0        0   \n",
              "4        0        0        0        2        0        0        0        0   \n",
              "\n",
              "   1/31/20  2/1/20   ...     4/11/20  4/12/20  4/13/20  4/14/20  4/15/20  \\\n",
              "0        0       0   ...         270      346      171      219      122   \n",
              "1        0       0   ...          11       15        5        8        8   \n",
              "2        0       0   ...         281      149      163      104      155   \n",
              "3        0       0   ...          57       52      130       88       71   \n",
              "4        1       0   ...         625     1089     1136     1425     1330   \n",
              "\n",
              "   4/16/20  4/17/20  4/18/20  4/19/20  4/20/20  \n",
              "0      270      226      141      176      191  \n",
              "1        7        9        5        5        2  \n",
              "2      273      274      213      209      135  \n",
              "3       51       75       49       37      192  \n",
              "4      991     1480     1334      940     2255  \n",
              "\n",
              "[5 rows x 89 columns]"
            ]
          },
          "execution_count": 18,
          "metadata": {
            "tags": []
          },
          "output_type": "execute_result"
        }
      ],
      "source": [
        "training_covid.head()"
      ]
    },
    {
      "cell_type": "code",
      "execution_count": null,
      "metadata": {
        "id": "C6Sz14IfgV2t"
      },
      "outputs": [],
      "source": [
        "def build_model(rnn_units, in_shape, out_size, dropout_prob=0):\n",
        "    model = tf.keras.Sequential()\n",
        "    model.add(tf.keras.layers.LSTM(units=rnn_units, input_shape=in_shape))\n",
        "    model.add(tf.keras.layers.Dropout(dropout_prob))\n",
        "    model.add(tf.keras.layers.Dense(units=out_size))\n",
        "    model.add(tf.keras.layers.Dropout(dropout_prob))\n",
        "    model.compile(optimizer='adam', loss='mean_squared_error')\n",
        "\n",
        "    return model"
      ]
    },
    {
      "cell_type": "code",
      "execution_count": null,
      "metadata": {
        "id": "mf8hfOVNgV2w"
      },
      "outputs": [],
      "source": [
        "model = build_model(rnn_units=50, in_shape=(training_covid.shape[1]-1, 1), out_size=1, dropout_prob=0.2)"
      ]
    },
    {
      "cell_type": "code",
      "execution_count": null,
      "metadata": {
        "id": "r8A75-akgV2z",
        "outputId": "a163f6e8-b3b0-4a13-ebd2-6f384bc6bc7e",
        "scrolled": false
      },
      "outputs": [
        {
          "name": "stdout",
          "output_type": "stream",
          "text": [
            "Model: \"sequential_7\"\n",
            "_________________________________________________________________\n",
            "Layer (type)                 Output Shape              Param #   \n",
            "=================================================================\n",
            "lstm_6 (LSTM)                (None, 50)                10400     \n",
            "_________________________________________________________________\n",
            "dropout_2 (Dropout)          (None, 50)                0         \n",
            "_________________________________________________________________\n",
            "dense_6 (Dense)              (None, 1)                 51        \n",
            "_________________________________________________________________\n",
            "dropout_3 (Dropout)          (None, 1)                 0         \n",
            "=================================================================\n",
            "Total params: 10,451\n",
            "Trainable params: 10,451\n",
            "Non-trainable params: 0\n",
            "_________________________________________________________________\n"
          ]
        }
      ],
      "source": [
        "model.summary()"
      ]
    },
    {
      "cell_type": "code",
      "execution_count": null,
      "metadata": {
        "id": "Zn5MTF72gV25"
      },
      "outputs": [],
      "source": [
        "x_train = np.array(training_covid.iloc[:,:-1]).reshape(training_covid.shape[0], training_covid.shape[1]-1, 1)\n",
        "y_train = np.array(training_covid.iloc[:,-1])"
      ]
    },
    {
      "cell_type": "code",
      "execution_count": null,
      "metadata": {
        "id": "K0W-s9MsgV28",
        "outputId": "24a1117a-cd9a-4afb-979c-0d99733cde9d",
        "scrolled": true
      },
      "outputs": [
        {
          "data": {
            "text/plain": [
              "<tensorflow.python.keras.callbacks.History at 0x17202438>"
            ]
          },
          "execution_count": 101,
          "metadata": {
            "tags": []
          },
          "output_type": "execute_result"
        }
      ],
      "source": [
        "model.fit(x_train, y_train, epochs=10, batch_size=20, verbose=0)"
      ]
    },
    {
      "cell_type": "markdown",
      "metadata": {
        "id": "HSAl0DurgV2_"
      },
      "source": [
        "### Clustering"
      ]
    },
    {
      "cell_type": "code",
      "execution_count": null,
      "metadata": {
        "id": "MDaEUichgV2_"
      },
      "outputs": [],
      "source": [
        "df_pop = pd.read_excel('population_states.xlsx')"
      ]
    },
    {
      "cell_type": "code",
      "execution_count": null,
      "metadata": {
        "id": "iJ15IYsVgV3D",
        "outputId": "eb723474-f5d5-4a7a-98ac-5be63188302f"
      },
      "outputs": [
        {
          "data": {
            "text/html": [
              "<div>\n",
              "<style>\n",
              "    .dataframe thead tr:only-child th {\n",
              "        text-align: right;\n",
              "    }\n",
              "\n",
              "    .dataframe thead th {\n",
              "        text-align: left;\n",
              "    }\n",
              "\n",
              "    .dataframe tbody tr th {\n",
              "        vertical-align: top;\n",
              "    }\n",
              "</style>\n",
              "<table border=\"1\" class=\"dataframe\">\n",
              "  <thead>\n",
              "    <tr style=\"text-align: right;\">\n",
              "      <th></th>\n",
              "      <th>State</th>\n",
              "      <th>Population</th>\n",
              "    </tr>\n",
              "  </thead>\n",
              "  <tbody>\n",
              "    <tr>\n",
              "      <th>0</th>\n",
              "      <td>.Alabama</td>\n",
              "      <td>4903185</td>\n",
              "    </tr>\n",
              "    <tr>\n",
              "      <th>1</th>\n",
              "      <td>.Alaska</td>\n",
              "      <td>731545</td>\n",
              "    </tr>\n",
              "    <tr>\n",
              "      <th>2</th>\n",
              "      <td>.Arizona</td>\n",
              "      <td>7278717</td>\n",
              "    </tr>\n",
              "    <tr>\n",
              "      <th>3</th>\n",
              "      <td>.Arkansas</td>\n",
              "      <td>3017804</td>\n",
              "    </tr>\n",
              "    <tr>\n",
              "      <th>4</th>\n",
              "      <td>.California</td>\n",
              "      <td>39512223</td>\n",
              "    </tr>\n",
              "  </tbody>\n",
              "</table>\n",
              "</div>"
            ],
            "text/plain": [
              "         State  Population\n",
              "0     .Alabama     4903185\n",
              "1      .Alaska      731545\n",
              "2     .Arizona     7278717\n",
              "3    .Arkansas     3017804\n",
              "4  .California    39512223"
            ]
          },
          "execution_count": 126,
          "metadata": {
            "tags": []
          },
          "output_type": "execute_result"
        }
      ],
      "source": [
        "df_pop.head()"
      ]
    },
    {
      "cell_type": "code",
      "execution_count": null,
      "metadata": {
        "id": "xWS1v9RcgV3G"
      },
      "outputs": [],
      "source": [
        "df_pop['Province_State'] = [i[1:] for i in df_pop['State']]"
      ]
    },
    {
      "cell_type": "code",
      "execution_count": null,
      "metadata": {
        "id": "4TVE4HAogV3K"
      },
      "outputs": [],
      "source": [
        "del df_pop['State']"
      ]
    },
    {
      "cell_type": "code",
      "execution_count": null,
      "metadata": {
        "id": "GXgfJwSBgV3O"
      },
      "outputs": [],
      "source": [
        "data_pop = data_state.join(df_pop.set_index('Province_State'), on='Province_State', how='left')"
      ]
    },
    {
      "cell_type": "code",
      "execution_count": null,
      "metadata": {
        "id": "7XuEY1vlgV3R"
      },
      "outputs": [],
      "source": [
        "data_pop = data_pop[data_pop['Population'].isnull() == False]"
      ]
    },
    {
      "cell_type": "code",
      "execution_count": null,
      "metadata": {
        "id": "NRAMzm3EgV3T"
      },
      "outputs": [],
      "source": [
        "data_clust = data_pop[['Province_State', 'Population', '1/29/20','2/10/20','3/7/20','3/17/20','3/28/20','4/18/20']]"
      ]
    },
    {
      "cell_type": "code",
      "execution_count": null,
      "metadata": {
        "id": "DmUPz-XegV3Y",
        "outputId": "8b5005ed-63e8-44fd-88f9-8e3c4d9a254a"
      },
      "outputs": [
        {
          "data": {
            "image/png": "[encoded data removed]",
            "text/plain": [
              "<matplotlib.figure.Figure at 0x176ea240>"
            ]
          },
          "metadata": {
            "tags": []
          },
          "output_type": "display_data"
        }
      ],
      "source": [
        "dendrogram = sch.dendrogram(sch.linkage(data_clust.iloc[:,1:], method='ward'))\n",
        "plt.title('Dendrogram')\n",
        "plt.ylabel('Euclidean distance')\n",
        "plt.show()"
      ]
    },
    {
      "cell_type": "code",
      "execution_count": null,
      "metadata": {
        "id": "x31wKhqRgV3b"
      },
      "outputs": [],
      "source": [
        "z = sch.ward(pdist(data_clust.iloc[:,1:]))"
      ]
    },
    {
      "cell_type": "code",
      "execution_count": null,
      "metadata": {
        "id": "ytqPs6wugV3e",
        "outputId": "d949669b-e9f0-4f34-b534-3c06f33df402"
      },
      "outputs": [
        {
          "data": {
            "text/plain": [
              "array([ True,  True,  True,  True,  True,  True,  True,  True,  True,\n",
              "        True,  True,  True,  True,  True,  True,  True,  True,  True,\n",
              "        True,  True,  True,  True,  True,  True,  True,  True,  True,\n",
              "        True,  True,  True,  True,  True,  True,  True,  True,  True,\n",
              "        True,  True,  True,  True,  True,  True,  True,  True,  True,\n",
              "        True,  True,  True,  True,  True,  True])"
            ]
          },
          "execution_count": 166,
          "metadata": {
            "tags": []
          },
          "output_type": "execute_result"
        }
      ],
      "source": [
        "a = sch.fcluster(z, t=1, criterion='distance')\n",
        "b = sch.fcluster(z, t=0.5, criterion='distance')\n",
        "a == b"
      ]
    },
    {
      "cell_type": "code",
      "execution_count": null,
      "metadata": {
        "id": "7yKANsgBgV3i"
      },
      "outputs": [],
      "source": [
        "clustering = cluster.AgglomerativeClustering().fit(data_clust[['3/4/20','3/11/20','3/18/20','3/25/20','4/1/20']])"
      ]
    }
  ],
  "metadata": {
    "colab": {
      "provenance": []
    },
    "kernelspec": {
      "display_name": "Python 3",
      "language": "python",
      "name": "python3"
    },
    "language_info": {
      "codemirror_mode": {
        "name": "ipython",
        "version": 3
      },
      "file_extension": ".py",
      "mimetype": "text/x-python",
      "name": "python",
      "nbconvert_exporter": "python",
      "pygments_lexer": "ipython3",
      "version": "3.11.4"
    }
  },
  "nbformat": 4,
  "nbformat_minor": 0
}
