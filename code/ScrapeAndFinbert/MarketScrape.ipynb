{
 "cells": [
  {
   "cell_type": "code",
   "execution_count": 1,
   "metadata": {},
   "outputs": [],
   "source": [
    "from bs4 import BeautifulSoup\n",
    "import os \n",
    "dir_path = os.path.abspath('')\n"
   ]
  },
  {
   "cell_type": "code",
   "execution_count": 2,
   "metadata": {},
   "outputs": [],
   "source": [
    "#open the file\n",
    "\n",
    "#returns a list of tuples formatted as [article title, publish date]\n",
    "def scrape(filename):\n",
    "    with open(dir_path+'\\\\' + filename) as html_file:\n",
    "        content = html_file.read()\n",
    "\n",
    "        soup = BeautifulSoup(content, 'lxml')\n",
    "\n",
    "        #get the table with the articles, and get rid of whitespace\n",
    "        tabs = soup.find(\"mw-tabs\")\n",
    "\n",
    "        #each article is in a div with the class being article__content\n",
    "        articles = tabs.find_all('div', class_=\"article__content\")\n",
    "\n",
    "        accum = []\n",
    "        for i in articles:\n",
    "\n",
    "            #get the title and clean the string of whitespace\n",
    "            title = i.find('a').stripped_strings\n",
    "\n",
    "            #making a title and date tuple\n",
    "            title_date = []\n",
    "\n",
    "            #I hope there is only one title per article\n",
    "            for string in title:\n",
    "                title_date.append(string)\n",
    "\n",
    "            #get the date from the timestamp span\n",
    "            title_date.append(i.find('span',class_=\"article__timestamp\")[\"data-est\"])\n",
    "            accum.append(title_date)\n",
    "        return accum\n",
    "                "
   ]
  },
  {
   "cell_type": "code",
   "execution_count": 3,
   "metadata": {},
   "outputs": [
    {
     "name": "stdout",
     "output_type": "stream",
     "text": [
      "[['Oil futures hit five-month high on strong manufacturing data, escalating geopolitical tensions', '2024-04-01T16:07:00'], ['Companies will soon have to disclose how they’re managing climate-related risk. That’s good news for stock investors.', '2024-03-30T12:49:00'], ['The EPA Wants Greener Trucks. Why That’s Fine for Diesel Engine Giant Cummins.', '2024-03-29T13:56:00'], [\"TotalEnergies releases its Universal Registration Document 2023 (Document d'enregistrement universel 2023) and its Form 20-F 2023 as well as the proposed resolutions for the Combined Shareholders' Meeting of May 24, 2024\", '2024-03-29T12:14:00'], ['ETF flows in first quarter reflect investor hopes for ‘soft landing’', '2024-03-29T04:34:00'], ['TotalEnergies Celebrates its 100(th) Anniversary and Launches the Operation \"100 for 100\"', '2024-03-29T04:20:00'], ['Mitsui & Co. Plans to Invest in Vietnam Gas Project', '2024-03-29T02:03:00'], ['Oil ends higher, with U.S. prices up 16% for the quarter', '2024-03-28T15:38:00'], ['Canada GDP Grows Stronger-Than-Expected 0.6% in January -- 2nd Update', '2024-03-28T10:57:00'], ['Analysts Expect 29 Billion Cubic-Foot Withdrawal in U.S. Natural-Gas Inventories', '2024-03-28T09:00:00'], ['March 28, 1924: TotalEnergies is 100!', '2024-03-28T04:33:00'], ['AI Is Giving Nuclear Power a Big Lift. 4 Stocks Riding the Trend.', '2024-03-28T03:45:00'], ['CME Stock Is Hot. When the Fed Lowers Interest Rates it Could Catch a Chill.', '2024-03-28T00:30:00'], ['New Rule Expands Royalties Requirements for Flaring/Venting on Public Lands -- OPIS', '2024-03-27T17:20:00'], ['Oil prices end lower, with weekly U.S. crude supply up over 3 million barrels', '2024-03-27T15:26:00'], ['Analysts Expect 29 Billion Cubic-Foot Withdrawal in U.S. Natural-Gas Inventories', '2024-03-27T12:58:00'], [\"Mexico's Trade Deficit Narrows in February\", '2024-03-27T08:45:00'], ['Berkeley settles lawsuit, will halt ban on natural gas in new buildings', '2024-03-26T20:43:00'], ['Oil futures hit five-month high on strong manufacturing data, escalating geopolitical tensions', '2024-04-01T16:07:00'], ['Companies will soon have to disclose how they’re managing climate-related risk. That’s good news for stock investors.', '2024-03-30T12:49:00'], ['The EPA Wants Greener Trucks. Why That’s Fine for Diesel Engine Giant Cummins.', '2024-03-29T13:56:00'], [\"TotalEnergies releases its Universal Registration Document 2023 (Document d'enregistrement universel 2023) and its Form 20-F 2023 as well as the proposed resolutions for the Combined Shareholders' Meeting of May 24, 2024\", '2024-03-29T12:14:00'], ['ETF flows in first quarter reflect investor hopes for ‘soft landing’', '2024-03-29T04:34:00'], ['TotalEnergies Celebrates its 100(th) Anniversary and Launches the Operation \"100 for 100\"', '2024-03-29T04:20:00'], ['Mitsui & Co. Plans to Invest in Vietnam Gas Project', '2024-03-29T02:03:00'], ['Oil ends higher, with U.S. prices up 16% for the quarter', '2024-03-28T15:38:00'], ['Canada GDP Grows Stronger-Than-Expected 0.6% in January -- 2nd Update', '2024-03-28T10:57:00'], ['Analysts Expect 29 Billion Cubic-Foot Withdrawal in U.S. Natural-Gas Inventories', '2024-03-28T09:00:00'], ['March 28, 1924: TotalEnergies is 100!', '2024-03-28T04:33:00'], ['AI Is Giving Nuclear Power a Big Lift. 4 Stocks Riding the Trend.', '2024-03-28T03:45:00'], ['CME Stock Is Hot. When the Fed Lowers Interest Rates it Could Catch a Chill.', '2024-03-28T00:30:00'], ['New Rule Expands Royalties Requirements for Flaring/Venting on Public Lands -- OPIS', '2024-03-27T17:20:00'], ['Oil prices end lower, with weekly U.S. crude supply up over 3 million barrels', '2024-03-27T15:26:00'], ['Analysts Expect 29 Billion Cubic-Foot Withdrawal in U.S. Natural-Gas Inventories', '2024-03-27T12:58:00'], [\"Mexico's Trade Deficit Narrows in February\", '2024-03-27T08:45:00'], ['Berkeley settles lawsuit, will halt ban on natural gas in new buildings', '2024-03-26T20:43:00'], ['Oil futures hit five-month high on strong manufacturing data, escalating geopolitical tensions', '2024-04-01T16:07:00'], ['Companies will soon have to disclose how they’re managing climate-related risk. That’s good news for stock investors.', '2024-03-30T12:49:00'], ['The EPA Wants Greener Trucks. Why That’s Fine for Diesel Engine Giant Cummins.', '2024-03-29T13:56:00'], [\"TotalEnergies releases its Universal Registration Document 2023 (Document d'enregistrement universel 2023) and its Form 20-F 2023 as well as the proposed resolutions for the Combined Shareholders' Meeting of May 24, 2024\", '2024-03-29T12:14:00'], ['ETF flows in first quarter reflect investor hopes for ‘soft landing’', '2024-03-29T04:34:00'], ['TotalEnergies Celebrates its 100(th) Anniversary and Launches the Operation \"100 for 100\"', '2024-03-29T04:20:00'], ['Mitsui & Co. Plans to Invest in Vietnam Gas Project', '2024-03-29T02:03:00'], ['Oil ends higher, with U.S. prices up 16% for the quarter', '2024-03-28T15:38:00'], ['Canada GDP Grows Stronger-Than-Expected 0.6% in January -- 2nd Update', '2024-03-28T10:57:00'], ['Analysts Expect 29 Billion Cubic-Foot Withdrawal in U.S. Natural-Gas Inventories', '2024-03-28T09:00:00'], ['March 28, 1924: TotalEnergies is 100!', '2024-03-28T04:33:00'], ['AI Is Giving Nuclear Power a Big Lift. 4 Stocks Riding the Trend.', '2024-03-28T03:45:00'], ['CME Stock Is Hot. When the Fed Lowers Interest Rates it Could Catch a Chill.', '2024-03-28T00:30:00'], ['New Rule Expands Royalties Requirements for Flaring/Venting on Public Lands -- OPIS', '2024-03-27T17:20:00'], ['Oil prices end lower, with weekly U.S. crude supply up over 3 million barrels', '2024-03-27T15:26:00'], ['Analysts Expect 29 Billion Cubic-Foot Withdrawal in U.S. Natural-Gas Inventories', '2024-03-27T12:58:00'], [\"Mexico's Trade Deficit Narrows in February\", '2024-03-27T08:45:00'], ['Berkeley settles lawsuit, will halt ban on natural gas in new buildings', '2024-03-26T20:43:00'], ['Oil futures hit five-month high on strong manufacturing data, escalating geopolitical tensions', '2024-04-01T16:07:00'], ['Companies will soon have to disclose how they’re managing climate-related risk. That’s good news for stock investors.', '2024-03-30T12:49:00'], ['The EPA Wants Greener Trucks. Why That’s Fine for Diesel Engine Giant Cummins.', '2024-03-29T13:56:00'], [\"TotalEnergies releases its Universal Registration Document 2023 (Document d'enregistrement universel 2023) and its Form 20-F 2023 as well as the proposed resolutions for the Combined Shareholders' Meeting of May 24, 2024\", '2024-03-29T12:14:00'], ['ETF flows in first quarter reflect investor hopes for ‘soft landing’', '2024-03-29T04:34:00'], ['TotalEnergies Celebrates its 100(th) Anniversary and Launches the Operation \"100 for 100\"', '2024-03-29T04:20:00'], ['Mitsui & Co. Plans to Invest in Vietnam Gas Project', '2024-03-29T02:03:00'], ['Oil ends higher, with U.S. prices up 16% for the quarter', '2024-03-28T15:38:00'], ['Canada GDP Grows Stronger-Than-Expected 0.6% in January -- 2nd Update', '2024-03-28T10:57:00'], ['Analysts Expect 29 Billion Cubic-Foot Withdrawal in U.S. Natural-Gas Inventories', '2024-03-28T09:00:00'], ['March 28, 1924: TotalEnergies is 100!', '2024-03-28T04:33:00'], ['AI Is Giving Nuclear Power a Big Lift. 4 Stocks Riding the Trend.', '2024-03-28T03:45:00'], ['CME Stock Is Hot. When the Fed Lowers Interest Rates it Could Catch a Chill.', '2024-03-28T00:30:00'], ['New Rule Expands Royalties Requirements for Flaring/Venting on Public Lands -- OPIS', '2024-03-27T17:20:00'], ['Oil prices end lower, with weekly U.S. crude supply up over 3 million barrels', '2024-03-27T15:26:00'], ['Analysts Expect 29 Billion Cubic-Foot Withdrawal in U.S. Natural-Gas Inventories', '2024-03-27T12:58:00'], [\"Mexico's Trade Deficit Narrows in February\", '2024-03-27T08:45:00'], ['Berkeley settles lawsuit, will halt ban on natural gas in new buildings', '2024-03-26T20:43:00']]\n"
     ]
    }
   ],
   "source": [
    "tuples = scrape(filename='Search - MarketWatch.html')\n",
    "print(tuples)"
   ]
  },
  {
   "cell_type": "code",
   "execution_count": 4,
   "metadata": {},
   "outputs": [
    {
     "name": "stderr",
     "output_type": "stream",
     "text": [
      "C:\\Users\\maxfa\\AppData\\Local\\Temp\\ipykernel_24792\\1229193036.py:2: DeprecationWarning: \n",
      "Pyarrow will become a required dependency of pandas in the next major release of pandas (pandas 3.0),\n",
      "(to allow more performant data types, such as the Arrow string type, and better interoperability with other libraries)\n",
      "but was not found to be installed on your system.\n",
      "If this would cause problems for you,\n",
      "please provide us feedback at https://github.com/pandas-dev/pandas/issues/54466\n",
      "        \n",
      "  import pandas as pd\n",
      "c:\\ProgramData\\miniconda3\\envs\\cse578\\lib\\site-packages\\transformers\\utils\\generic.py:260: UserWarning: torch.utils._pytree._register_pytree_node is deprecated. Please use torch.utils._pytree.register_pytree_node instead.\n",
      "  torch.utils._pytree._register_pytree_node(\n"
     ]
    }
   ],
   "source": [
    "import numpy as np\n",
    "import pandas as pd\n",
    "from transformers import BertTokenizer, BertForSequenceClassification\n"
   ]
  },
  {
   "cell_type": "code",
   "execution_count": 5,
   "metadata": {},
   "outputs": [],
   "source": [
    "finbert = BertForSequenceClassification.from_pretrained('yiyanghkust/finbert-tone',num_labels=3)\n",
    "tokenizer = BertTokenizer.from_pretrained('yiyanghkust/finbert-tone')"
   ]
  },
  {
   "cell_type": "code",
   "execution_count": 6,
   "metadata": {},
   "outputs": [],
   "source": [
    "#defining the labels to make interpretation easier.\n",
    "labels = {0:'neutral', 1:'positive',2:'negative'}"
   ]
  },
  {
   "cell_type": "code",
   "execution_count": 13,
   "metadata": {},
   "outputs": [
    {
     "name": "stdout",
     "output_type": "stream",
     "text": [
      "positive\n",
      "[[-6.342599  10.591372  -5.9413424]]\n"
     ]
    }
   ],
   "source": [
    "#tokenize the first entry as a test\n",
    "input = tokenizer(tuples[0][0], return_tensors=\"pt\", padding=True)\n",
    "\n",
    "#enter the tokenized string into finbert and retrieve the output\n",
    "output = finbert(**input)[0]\n",
    "\n",
    "#get the actual prediction from the resulting array. This will be the argmax of the output array.\n",
    "val = labels[np.argmax(output.detach().numpy())]\n",
    "print(val)\n",
    "print(output.detach().numpy())"
   ]
  },
  {
   "cell_type": "code",
   "execution_count": 14,
   "metadata": {},
   "outputs": [
    {
     "name": "stdout",
     "output_type": "stream",
     "text": [
      "negative\n",
      "[[-4.665029  -3.9620922 12.77002  ]]\n"
     ]
    }
   ],
   "source": [
    "#this is a test that has a clear negative sentiment. It is the opposite of the first test\n",
    "test = tokenizer(\"Oil futures hit five-month Low on weak manufacturing data, escalating geopolitical tensions\", return_tensors=\"pt\", padding=True)\n",
    "test_out = finbert(**test)[0]\n",
    "val = labels[np.argmax(test_out.detach().numpy())]\n",
    "print(val)\n",
    "print(test_out.detach().numpy())"
   ]
  }
 ],
 "metadata": {
  "kernelspec": {
   "display_name": "cse578",
   "language": "python",
   "name": "python3"
  },
  "language_info": {
   "codemirror_mode": {
    "name": "ipython",
    "version": 3
   },
   "file_extension": ".py",
   "mimetype": "text/x-python",
   "name": "python",
   "nbconvert_exporter": "python",
   "pygments_lexer": "ipython3",
   "version": "3.10.13"
  }
 },
 "nbformat": 4,
 "nbformat_minor": 2
}
