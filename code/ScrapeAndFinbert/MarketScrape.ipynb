{
 "cells": [
  {
   "cell_type": "code",
   "execution_count": 16,
   "metadata": {},
   "outputs": [],
   "source": [
    "from bs4 import BeautifulSoup\n",
    "import os \n",
    "dir_path = os.path.abspath('')\n",
    "import requests\n",
    "import time\n",
    "import random"
   ]
  },
  {
   "cell_type": "code",
   "execution_count": 2,
   "metadata": {},
   "outputs": [],
   "source": [
    "#open the file\n",
    "\n",
    "#returns a list of tuples formatted as [article title, publish date]\n",
    "def scrape(filename):\n",
    "    with open(dir_path+'\\\\' + filename) as html_file:\n",
    "        content = html_file.read()\n",
    "\n",
    "        soup = BeautifulSoup(content, 'lxml')\n",
    "\n",
    "        #get the table with the articles, and get rid of whitespace\n",
    "        tabs = soup.find(\"mw-tabs\")\n",
    "\n",
    "        #each article is in a div with the class being article__content\n",
    "        articles = tabs.find_all('div', class_=\"article__content\")\n",
    "\n",
    "        accum = []\n",
    "        for i in articles:\n",
    "\n",
    "            #get the title and clean the string of whitespace\n",
    "            title = i.find('a').stripped_strings\n",
    "\n",
    "            #making a title and date tuple\n",
    "            title_date = []\n",
    "\n",
    "            #I hope there is only one title per article\n",
    "            for string in title:\n",
    "                title_date.append(string)\n",
    "\n",
    "            #get the date from the timestamp span\n",
    "            title_date.append(i.find('span',class_=\"article__timestamp\")[\"data-est\"])\n",
    "            accum.append(title_date)\n",
    "        return accum\n",
    "                "
   ]
  },
  {
   "cell_type": "code",
   "execution_count": 3,
   "metadata": {},
   "outputs": [
    {
     "name": "stdout",
     "output_type": "stream",
     "text": [
      "[['Oil futures hit five-month high on strong manufacturing data, escalating geopolitical tensions', '2024-04-01T16:07:00'], ['Companies will soon have to disclose how they’re managing climate-related risk. That’s good news for stock investors.', '2024-03-30T12:49:00'], ['The EPA Wants Greener Trucks. Why That’s Fine for Diesel Engine Giant Cummins.', '2024-03-29T13:56:00'], [\"TotalEnergies releases its Universal Registration Document 2023 (Document d'enregistrement universel 2023) and its Form 20-F 2023 as well as the proposed resolutions for the Combined Shareholders' Meeting of May 24, 2024\", '2024-03-29T12:14:00'], ['ETF flows in first quarter reflect investor hopes for ‘soft landing’', '2024-03-29T04:34:00'], ['TotalEnergies Celebrates its 100(th) Anniversary and Launches the Operation \"100 for 100\"', '2024-03-29T04:20:00'], ['Mitsui & Co. Plans to Invest in Vietnam Gas Project', '2024-03-29T02:03:00'], ['Oil ends higher, with U.S. prices up 16% for the quarter', '2024-03-28T15:38:00'], ['Canada GDP Grows Stronger-Than-Expected 0.6% in January -- 2nd Update', '2024-03-28T10:57:00'], ['Analysts Expect 29 Billion Cubic-Foot Withdrawal in U.S. Natural-Gas Inventories', '2024-03-28T09:00:00'], ['March 28, 1924: TotalEnergies is 100!', '2024-03-28T04:33:00'], ['AI Is Giving Nuclear Power a Big Lift. 4 Stocks Riding the Trend.', '2024-03-28T03:45:00'], ['CME Stock Is Hot. When the Fed Lowers Interest Rates it Could Catch a Chill.', '2024-03-28T00:30:00'], ['New Rule Expands Royalties Requirements for Flaring/Venting on Public Lands -- OPIS', '2024-03-27T17:20:00'], ['Oil prices end lower, with weekly U.S. crude supply up over 3 million barrels', '2024-03-27T15:26:00'], ['Analysts Expect 29 Billion Cubic-Foot Withdrawal in U.S. Natural-Gas Inventories', '2024-03-27T12:58:00'], [\"Mexico's Trade Deficit Narrows in February\", '2024-03-27T08:45:00'], ['Berkeley settles lawsuit, will halt ban on natural gas in new buildings', '2024-03-26T20:43:00'], ['Oil futures hit five-month high on strong manufacturing data, escalating geopolitical tensions', '2024-04-01T16:07:00'], ['Companies will soon have to disclose how they’re managing climate-related risk. That’s good news for stock investors.', '2024-03-30T12:49:00'], ['The EPA Wants Greener Trucks. Why That’s Fine for Diesel Engine Giant Cummins.', '2024-03-29T13:56:00'], [\"TotalEnergies releases its Universal Registration Document 2023 (Document d'enregistrement universel 2023) and its Form 20-F 2023 as well as the proposed resolutions for the Combined Shareholders' Meeting of May 24, 2024\", '2024-03-29T12:14:00'], ['ETF flows in first quarter reflect investor hopes for ‘soft landing’', '2024-03-29T04:34:00'], ['TotalEnergies Celebrates its 100(th) Anniversary and Launches the Operation \"100 for 100\"', '2024-03-29T04:20:00'], ['Mitsui & Co. Plans to Invest in Vietnam Gas Project', '2024-03-29T02:03:00'], ['Oil ends higher, with U.S. prices up 16% for the quarter', '2024-03-28T15:38:00'], ['Canada GDP Grows Stronger-Than-Expected 0.6% in January -- 2nd Update', '2024-03-28T10:57:00'], ['Analysts Expect 29 Billion Cubic-Foot Withdrawal in U.S. Natural-Gas Inventories', '2024-03-28T09:00:00'], ['March 28, 1924: TotalEnergies is 100!', '2024-03-28T04:33:00'], ['AI Is Giving Nuclear Power a Big Lift. 4 Stocks Riding the Trend.', '2024-03-28T03:45:00'], ['CME Stock Is Hot. When the Fed Lowers Interest Rates it Could Catch a Chill.', '2024-03-28T00:30:00'], ['New Rule Expands Royalties Requirements for Flaring/Venting on Public Lands -- OPIS', '2024-03-27T17:20:00'], ['Oil prices end lower, with weekly U.S. crude supply up over 3 million barrels', '2024-03-27T15:26:00'], ['Analysts Expect 29 Billion Cubic-Foot Withdrawal in U.S. Natural-Gas Inventories', '2024-03-27T12:58:00'], [\"Mexico's Trade Deficit Narrows in February\", '2024-03-27T08:45:00'], ['Berkeley settles lawsuit, will halt ban on natural gas in new buildings', '2024-03-26T20:43:00'], ['Oil futures hit five-month high on strong manufacturing data, escalating geopolitical tensions', '2024-04-01T16:07:00'], ['Companies will soon have to disclose how they’re managing climate-related risk. That’s good news for stock investors.', '2024-03-30T12:49:00'], ['The EPA Wants Greener Trucks. Why That’s Fine for Diesel Engine Giant Cummins.', '2024-03-29T13:56:00'], [\"TotalEnergies releases its Universal Registration Document 2023 (Document d'enregistrement universel 2023) and its Form 20-F 2023 as well as the proposed resolutions for the Combined Shareholders' Meeting of May 24, 2024\", '2024-03-29T12:14:00'], ['ETF flows in first quarter reflect investor hopes for ‘soft landing’', '2024-03-29T04:34:00'], ['TotalEnergies Celebrates its 100(th) Anniversary and Launches the Operation \"100 for 100\"', '2024-03-29T04:20:00'], ['Mitsui & Co. Plans to Invest in Vietnam Gas Project', '2024-03-29T02:03:00'], ['Oil ends higher, with U.S. prices up 16% for the quarter', '2024-03-28T15:38:00'], ['Canada GDP Grows Stronger-Than-Expected 0.6% in January -- 2nd Update', '2024-03-28T10:57:00'], ['Analysts Expect 29 Billion Cubic-Foot Withdrawal in U.S. Natural-Gas Inventories', '2024-03-28T09:00:00'], ['March 28, 1924: TotalEnergies is 100!', '2024-03-28T04:33:00'], ['AI Is Giving Nuclear Power a Big Lift. 4 Stocks Riding the Trend.', '2024-03-28T03:45:00'], ['CME Stock Is Hot. When the Fed Lowers Interest Rates it Could Catch a Chill.', '2024-03-28T00:30:00'], ['New Rule Expands Royalties Requirements for Flaring/Venting on Public Lands -- OPIS', '2024-03-27T17:20:00'], ['Oil prices end lower, with weekly U.S. crude supply up over 3 million barrels', '2024-03-27T15:26:00'], ['Analysts Expect 29 Billion Cubic-Foot Withdrawal in U.S. Natural-Gas Inventories', '2024-03-27T12:58:00'], [\"Mexico's Trade Deficit Narrows in February\", '2024-03-27T08:45:00'], ['Berkeley settles lawsuit, will halt ban on natural gas in new buildings', '2024-03-26T20:43:00'], ['Oil futures hit five-month high on strong manufacturing data, escalating geopolitical tensions', '2024-04-01T16:07:00'], ['Companies will soon have to disclose how they’re managing climate-related risk. That’s good news for stock investors.', '2024-03-30T12:49:00'], ['The EPA Wants Greener Trucks. Why That’s Fine for Diesel Engine Giant Cummins.', '2024-03-29T13:56:00'], [\"TotalEnergies releases its Universal Registration Document 2023 (Document d'enregistrement universel 2023) and its Form 20-F 2023 as well as the proposed resolutions for the Combined Shareholders' Meeting of May 24, 2024\", '2024-03-29T12:14:00'], ['ETF flows in first quarter reflect investor hopes for ‘soft landing’', '2024-03-29T04:34:00'], ['TotalEnergies Celebrates its 100(th) Anniversary and Launches the Operation \"100 for 100\"', '2024-03-29T04:20:00'], ['Mitsui & Co. Plans to Invest in Vietnam Gas Project', '2024-03-29T02:03:00'], ['Oil ends higher, with U.S. prices up 16% for the quarter', '2024-03-28T15:38:00'], ['Canada GDP Grows Stronger-Than-Expected 0.6% in January -- 2nd Update', '2024-03-28T10:57:00'], ['Analysts Expect 29 Billion Cubic-Foot Withdrawal in U.S. Natural-Gas Inventories', '2024-03-28T09:00:00'], ['March 28, 1924: TotalEnergies is 100!', '2024-03-28T04:33:00'], ['AI Is Giving Nuclear Power a Big Lift. 4 Stocks Riding the Trend.', '2024-03-28T03:45:00'], ['CME Stock Is Hot. When the Fed Lowers Interest Rates it Could Catch a Chill.', '2024-03-28T00:30:00'], ['New Rule Expands Royalties Requirements for Flaring/Venting on Public Lands -- OPIS', '2024-03-27T17:20:00'], ['Oil prices end lower, with weekly U.S. crude supply up over 3 million barrels', '2024-03-27T15:26:00'], ['Analysts Expect 29 Billion Cubic-Foot Withdrawal in U.S. Natural-Gas Inventories', '2024-03-27T12:58:00'], [\"Mexico's Trade Deficit Narrows in February\", '2024-03-27T08:45:00'], ['Berkeley settles lawsuit, will halt ban on natural gas in new buildings', '2024-03-26T20:43:00']]\n"
     ]
    }
   ],
   "source": [
    "tuples = scrape(filename='Search - MarketWatch.html')\n",
    "print(tuples)"
   ]
  },
  {
   "cell_type": "code",
   "execution_count": 4,
   "metadata": {},
   "outputs": [
    {
     "name": "stderr",
     "output_type": "stream",
     "text": [
      "C:\\Users\\maxfa\\AppData\\Local\\Temp\\ipykernel_28384\\1229193036.py:2: DeprecationWarning: \n",
      "Pyarrow will become a required dependency of pandas in the next major release of pandas (pandas 3.0),\n",
      "(to allow more performant data types, such as the Arrow string type, and better interoperability with other libraries)\n",
      "but was not found to be installed on your system.\n",
      "If this would cause problems for you,\n",
      "please provide us feedback at https://github.com/pandas-dev/pandas/issues/54466\n",
      "        \n",
      "  import pandas as pd\n"
     ]
    }
   ],
   "source": [
    "import numpy as np\n",
    "import pandas as pd\n",
    "from transformers import BertTokenizer, BertForSequenceClassification\n"
   ]
  },
  {
   "cell_type": "code",
   "execution_count": 5,
   "metadata": {},
   "outputs": [],
   "source": [
    "finbert = BertForSequenceClassification.from_pretrained('yiyanghkust/finbert-tone',num_labels=3)\n",
    "tokenizer = BertTokenizer.from_pretrained('yiyanghkust/finbert-tone')"
   ]
  },
  {
   "cell_type": "code",
   "execution_count": 6,
   "metadata": {},
   "outputs": [],
   "source": [
    "#defining the labels to make interpretation easier.\n",
    "labels = {0:'neutral', 1:'positive',2:'negative'}"
   ]
  },
  {
   "cell_type": "code",
   "execution_count": 7,
   "metadata": {},
   "outputs": [
    {
     "name": "stdout",
     "output_type": "stream",
     "text": [
      "positive\n",
      "[[-6.342599  10.591372  -5.9413424]]\n"
     ]
    }
   ],
   "source": [
    "#tokenize the first entry as a test\n",
    "input = tokenizer(tuples[0][0], return_tensors=\"pt\", padding=True)\n",
    "\n",
    "#enter the tokenized string into finbert and retrieve the output\n",
    "output = finbert(**input)[0]\n",
    "\n",
    "#get the actual prediction from the resulting array. This will be the argmax of the output array.\n",
    "val = labels[np.argmax(output.detach().numpy())]\n",
    "print(val)\n",
    "print(output.detach().numpy())"
   ]
  },
  {
   "cell_type": "code",
   "execution_count": 8,
   "metadata": {},
   "outputs": [
    {
     "name": "stdout",
     "output_type": "stream",
     "text": [
      "negative\n",
      "[[-4.665029  -3.9620922 12.77002  ]]\n"
     ]
    }
   ],
   "source": [
    "#this is a test that has a clear negative sentiment. It is the opposite of the first test\n",
    "test = tokenizer(\"Oil futures hit five-month Low on weak manufacturing data, escalating geopolitical tensions\", return_tensors=\"pt\", padding=True)\n",
    "test_out = finbert(**test)[0]\n",
    "val = labels[np.argmax(test_out.detach().numpy())]\n",
    "print(val)\n",
    "print(test_out.detach().numpy())"
   ]
  },
  {
   "cell_type": "code",
   "execution_count": 9,
   "metadata": {},
   "outputs": [
    {
     "name": "stdout",
     "output_type": "stream",
     "text": [
      "requests.get(\"https://www.marketwatch.com/search?q=natural%20gas&ts=5&sd=01%2F05%2F2007&ed=05%2F01%2F2024&tab=All%20News\",\n",
      "    headers={\n",
      "        \"accept\": \"text/html,application/xhtml+xml,application/xml;q=0.9,image/avif,image/webp,image/apng,*/*;q=0.8,application/signed-exchange;v=b3;q=0.7\",\n",
      "        \"accept-language\": \"en-US,en;q=0.9\",\n",
      "        \"cache-control\": \"max-age=0\",\n",
      "        \"priority\": \"u=0, i\",\n",
      "        \"sec-ch-ua-mobile\": \"?0\",\n",
      "        \"sec-ch-ua-platform\": \"Windows\",\n",
      "        \"sec-fetch-dest\": \"document\",\n",
      "        \"sec-fetch-mode\": \"navigate\",\n",
      "        \"sec-fetch-site\": \"same-origin\",\n",
      "        \"sec-fetch-user\": \"?1\",\n",
      "        \"upgrade-insecure-requests\": \"1\",\n",
      "        \"user-agent\": \"Mozilla/5.0 (Windows NT 10.0; Win64; x64) AppleWebKit/537.36 (KHTML, like Gecko) Chrome/124.0.0.0 Safari/537.36\"\n",
      "    },\n",
      "    cookies={\n",
      "        \"AMCVS_CB68E4BA55144CAA0A4C98A5%40AdobeOrg\": \"1\",\n",
      "        \"AMCV_CB68E4BA55144CAA0A4C98A5%40AdobeOrg\": \"1585540135%7CMCIDTS%7C19847%7CMCMID%7C85637347026552322914309742615444452874%7CMCAAMLH-1715357857%7C7%7CMCAAMB-1715357857%7CRKhpRz8krg2tLO6pguXWp5olkAcUniQYPHaMWWgdJ3xzPWQmdj0y%7CMCOPTOUT-1714760257s%7CNONE%7CMCAID%7CNONE%7CvVersion%7C4.4.0\",\n",
      "        \"__eoi\": \"ID=ec072ecbe38ede61:T=1712330583:RT=1714755796:S=AA-AfjbW9jqY1N0TjqjAMfFbhx4P\",\n",
      "        \"__gads\": \"ID=5c5ea10353d6cf9a:T=1712330583:RT=1714755796:S=ALNI_MascskHCRnL-ErSu1zZ_zwjawm6wQ\",\n",
      "        \"__gpi\": \"UID=00000ddc0da89c36:T=1712330583:RT=1714755796:S=ALNI_MZOdKTohFxAEwIuOgp32bZzwrFpug\",\n",
      "        \"_cls_s\": \"7bb3b0d8-8c66-4480-ad53-8cec7fc83bc1:0\",\n",
      "        \"_cls_v\": \"8c52e2bb-3fbe-4fb2-baba-83ceef014339\",\n",
      "        \"_dj_id.cff7\": \".1712330580.4.1714755796.1713834402.ee71490a-a388-487a-9ee8-e8d41320275a\",\n",
      "        \"_dj_sp_id\": \"a77f52ff-1f26-4401-850b-2d11bfe89ccb\",\n",
      "        \"_fbp\": \"fb.1.1712330579933.1489826469\",\n",
      "        \"_gcl_au\": \"1.1.1051478361.1712330580\",\n",
      "        \"_lr_geo_location\": \"US\",\n",
      "        \"_lr_geo_location_state\": \"NY\",\n",
      "        \"_meta_cross_domain_id\": \"f094a52d-7e9f-4d05-9436-3b67d001a186\",\n",
      "        \"_meta_cross_domain_recheck\": \"1714753058189\",\n",
      "        \"_meta_facebookTag_sync\": \"1712330579934\",\n",
      "        \"_mfuuid_\": \"2b44d50e-6996-447c-b928-6b488462cf90\",\n",
      "        \"_ncg_domain_id_\": \"34cab120-525d-43ef-810b-cea4b39df739.1.1712330580081.1775402580081\",\n",
      "        \"_ncg_g_id_\": \"f18f861e-cfce-4c14-bd45-4b17515106b5.3.1712330128.1775402580081\",\n",
      "        \"_ncg_id_\": \"34cab120-525d-43ef-810b-cea4b39df739\",\n",
      "        \"_ncg_sp_id.f57d\": \"34cab120-525d-43ef-810b-cea4b39df739.1712330580.4.1714755796.1713834403.f72e2fd6-cc5a-4394-895f-e888c2ab8442.15e3781d-229b-4f62-a103-d68d7668cce4.67ff2799-79fb-4df1-8724-9db592550931.1714753058174.13\",\n",
      "        \"_pcid\": \"%7B%22browserId%22%3A%22lumtezcryp6s0mh2%22%7D\",\n",
      "        \"_pctx\": \"%7Bu%7DN4IgrgzgpgThIC4B2YA2qA05owMoBcBDfSREQpAeyRCwgEt8oBJAEzIE4AmHgZi4CsvAIwB2DqIAMADkHTRvEAF8gA\",\n",
      "        \"_pnlspid\": \"11018\",\n",
      "        \"_pnpdm\": \"true\",\n",
      "        \"_pnss\": \"blocked\",\n",
      "        \"_pnvl\": \"false\",\n",
      "        \"_pubcid\": \"2008d82d-6476-4aa0-aca9-82881880d4d8\",\n",
      "        \"_pubcid_cst\": \"kSylLAssaw%3D%3D\",\n",
      "        \"_rdt_uuid\": \"1712330580074.7bfcaaa4-26e2-48f7-b6bf-9129ee0a5a1c\",\n",
      "        \"_scor_uid\": \"2595a1a20ad64a989f47676ba304c36e\",\n",
      "        \"_sp_su\": \"false\",\n",
      "        \"ab_uuid\": \"490cc91d-6da6-4b4b-ab56-64bf275405fa\",\n",
      "        \"ajs_anonymous_id\": \"298f408c-540f-4076-8b2c-15cd25be026a\",\n",
      "        \"cX_G\": \"cx%3A2sncjh13mlfa82qelqjrstho9h%3A1yqdkcza0sdwu\",\n",
      "        \"cX_P\": \"lumtezcryp6s0mh2\",\n",
      "        \"ccpaApplies\": \"false\",\n",
      "        \"datadome\": \"7mShbl~qJQTycHhoQFmP3YVGN9EjZTvq8COvGW2TOZO156Rybug8kyB8vZedyrm0py5mgIDMnS2Om8qqGb_wQfXBFlNZNF~yicrK5npfEANi3_q4qaFs2xB~eDYXNm0M\",\n",
      "        \"djvideovol\": \"1\",\n",
      "        \"fullcss-section\": \"section-b1201b4c3a.min.css\",\n",
      "        \"gdprApplies\": \"false\",\n",
      "        \"icons-loaded\": \"true\",\n",
      "        \"letsGetMikey\": \"enabled\",\n",
      "        \"mw_loc\": \"%7B%22Region%22%3A%22NY%22%2C%22Country%22%3A%22US%22%2C%22Continent%22%3A%22NA%22%2C%22ApplicablePrivacy%22%3A0%7D\",\n",
      "        \"permutive-id\": \"5bde565c-3b5c-4549-b439-264ae36c1cae\",\n",
      "        \"pushly.user_puuid\": \"N6mgtv7o13gye9Pov5S8WP6vW2WdTwDj\",\n",
      "        \"recentqsmkii\": \"Future-US-CL.1\",\n",
      "        \"refresh\": \"off\",\n",
      "        \"regulationApplies\": \"gdpr%3Afalse%2Ccpra%3Afalse%2Cvcdpa%3Afalse\",\n",
      "        \"s_cc\": \"true\",\n",
      "        \"s_ppv\": \"MW_Search%2C32%2C32%2C1203\",\n",
      "        \"s_tp\": \"3803\",\n",
      "        \"utag_main\": \"v_id:018eaedb1ee70016901b3d22e7a00506f001c06700978$_sn:4$_ss:0$_st:1714757595586$vapi_domain:marketwatch.com$ses_id:1714753057244%3Bexp-session$_pn:9%3Bexp-session$_prevpage:MW_Search%3Bexp-1714759395590\",\n",
      "        \"vcdpaApplies\": \"false\",\n",
      "        \"wsjregion\": \"na%2Cus\"\n",
      "    },\n",
      "    auth=(),\n",
      ")\n"
     ]
    }
   ],
   "source": [
    "#getting the main page of articles.\n",
    "import uncurl\n",
    "uncurled = uncurl.parse(\"curl 'https://www.marketwatch.com/search?q=natural%20gas&ts=5&sd=01%2F05%2F2007&ed=05%2F01%2F2024&tab=All%20News' \\\n",
    "  -H 'accept: text/html,application/xhtml+xml,application/xml;q=0.9,image/avif,image/webp,image/apng,*/*;q=0.8,application/signed-exchange;v=b3;q=0.7' \\\n",
    "  -H 'accept-language: en-US,en;q=0.9' \\\n",
    "  -H 'cache-control: max-age=0' \\\n",
    "  -H 'cookie: gdprApplies=false; refresh=off; _pnvl=false; pushly.user_puuid=N6mgtv7o13gye9Pov5S8WP6vW2WdTwDj; letsGetMikey=enabled; _pubcid=2008d82d-6476-4aa0-aca9-82881880d4d8; _sp_su=false; AMCVS_CB68E4BA55144CAA0A4C98A5%40AdobeOrg=1; ajs_anonymous_id=298f408c-540f-4076-8b2c-15cd25be026a; _fbp=fb.1.1712330579933.1489826469; _meta_facebookTag_sync=1712330579934; _pcid=%7B%22browserId%22%3A%22lumtezcryp6s0mh2%22%7D; cX_P=lumtezcryp6s0mh2; _pctx=%7Bu%7DN4IgrgzgpgThIC4B2YA2qA05owMoBcBDfSREQpAeyRCwgEt8oBJAEzIE4AmHgZi4CsvAIwB2DqIAMADkHTRvEAF8gA; s_cc=true; _gcl_au=1.1.1051478361.1712330580; _ncg_domain_id_=34cab120-525d-43ef-810b-cea4b39df739.1.1712330580081.1775402580081; _scor_uid=2595a1a20ad64a989f47676ba304c36e; _ncg_g_id_=f18f861e-cfce-4c14-bd45-4b17515106b5.3.1712330128.1775402580081; _dj_sp_id=a77f52ff-1f26-4401-850b-2d11bfe89ccb; _cls_v=8c52e2bb-3fbe-4fb2-baba-83ceef014339; _cls_s=7bb3b0d8-8c66-4480-ad53-8cec7fc83bc1:0; cX_G=cx%3A2sncjh13mlfa82qelqjrstho9h%3A1yqdkcza0sdwu; permutive-id=5bde565c-3b5c-4549-b439-264ae36c1cae; _pnlspid=11018; wsjregion=na%2Cus; ccpaApplies=false; vcdpaApplies=false; regulationApplies=gdpr%3Afalse%2Ccpra%3Afalse%2Cvcdpa%3Afalse; ab_uuid=490cc91d-6da6-4b4b-ab56-64bf275405fa; djvideovol=1; _ncg_id_=34cab120-525d-43ef-810b-cea4b39df739; recentqsmkii=Future-US-CL.1; _meta_cross_domain_id=f094a52d-7e9f-4d05-9436-3b67d001a186; mw_loc=%7B%22Region%22%3A%22NY%22%2C%22Country%22%3A%22US%22%2C%22Continent%22%3A%22NA%22%2C%22ApplicablePrivacy%22%3A0%7D; fullcss-section=section-b1201b4c3a.min.css; icons-loaded=true; _lr_geo_location_state=NY; _lr_geo_location=US; AMCV_CB68E4BA55144CAA0A4C98A5%40AdobeOrg=1585540135%7CMCIDTS%7C19847%7CMCMID%7C85637347026552322914309742615444452874%7CMCAAMLH-1715357857%7C7%7CMCAAMB-1715357857%7CRKhpRz8krg2tLO6pguXWp5olkAcUniQYPHaMWWgdJ3xzPWQmdj0y%7CMCOPTOUT-1714760257s%7CNONE%7CMCAID%7CNONE%7CvVersion%7C4.4.0; _meta_cross_domain_recheck=1714753058189; _pnpdm=true; _pnss=blocked; _mfuuid_=2b44d50e-6996-447c-b928-6b488462cf90; _pubcid_cst=kSylLAssaw%3D%3D; utag_main=v_id:018eaedb1ee70016901b3d22e7a00506f001c06700978$_sn:4$_ss:0$_st:1714757595586$vapi_domain:marketwatch.com$ses_id:1714753057244%3Bexp-session$_pn:9%3Bexp-session$_prevpage:MW_Search%3Bexp-1714759395590; _rdt_uuid=1712330580074.7bfcaaa4-26e2-48f7-b6bf-9129ee0a5a1c; _dj_id.cff7=.1712330580.4.1714755796.1713834402.ee71490a-a388-487a-9ee8-e8d41320275a; _ncg_sp_id.f57d=34cab120-525d-43ef-810b-cea4b39df739.1712330580.4.1714755796.1713834403.f72e2fd6-cc5a-4394-895f-e888c2ab8442.15e3781d-229b-4f62-a103-d68d7668cce4.67ff2799-79fb-4df1-8724-9db592550931.1714753058174.13; __gads=ID=5c5ea10353d6cf9a:T=1712330583:RT=1714755796:S=ALNI_MascskHCRnL-ErSu1zZ_zwjawm6wQ; __gpi=UID=00000ddc0da89c36:T=1712330583:RT=1714755796:S=ALNI_MZOdKTohFxAEwIuOgp32bZzwrFpug; __eoi=ID=ec072ecbe38ede61:T=1712330583:RT=1714755796:S=AA-AfjbW9jqY1N0TjqjAMfFbhx4P; datadome=7mShbl~qJQTycHhoQFmP3YVGN9EjZTvq8COvGW2TOZO156Rybug8kyB8vZedyrm0py5mgIDMnS2Om8qqGb_wQfXBFlNZNF~yicrK5npfEANi3_q4qaFs2xB~eDYXNm0M; s_tp=3803; s_ppv=MW_Search%2C32%2C32%2C1203' \\\n",
    "  -H 'priority: u=0, i' \\\n",
    "  -H 'sec-ch-ua-mobile: ?0' \\\n",
    "  -H 'sec-ch-ua-platform: 'Windows'' \\\n",
    "  -H 'sec-fetch-dest: document' \\\n",
    "  -H 'sec-fetch-mode: navigate' \\\n",
    "  -H 'sec-fetch-site: same-origin' \\\n",
    "  -H 'sec-fetch-user: ?1' \\\n",
    "  -H 'upgrade-insecure-requests: 1' \\\n",
    "  -H 'user-agent: Mozilla/5.0 (Windows NT 10.0; Win64; x64) AppleWebKit/537.36 (KHTML, like Gecko) Chrome/124.0.0.0 Safari/537.36'\")\n",
    "\n",
    "print(uncurled)"
   ]
  },
  {
   "cell_type": "code",
   "execution_count": 14,
   "metadata": {},
   "outputs": [
    {
     "name": "stdout",
     "output_type": "stream",
     "text": [
      "requests.get(\"https://www.marketwatch.com/search/moreHeadlines?q=natural%20gas&ts=5&sd=03%2F01%2F2024&ed=04%2F01%2F2024&partial=true&tab=All%20News&pageNumber=1\",\n",
      "    headers={\n",
      "        \"accept\": \"*/*\",\n",
      "        \"accept-language\": \"en-US,en;q=0.9\",\n",
      "        \"newrelic\": \"eyJ2IjpbMCwxXSwiZCI6eyJ0eSI6IkJyb3dzZXIiLCJhYyI6IjE2ODQyNzMiLCJhcCI6Ijc1NDg5OTM4MiIsImlkIjoiZDMzODY2YzFmNmZhNWNiYyIsInRyIjoiNmM0YWY5NzUyMmRiNjJlOGUwMDRhNDIwYTU1YTE0YjYiLCJ0aSI6MTcxNDgzMjM0NzA4MiwidGsiOiIxMDIyNjgxIn19\",\n",
      "        \"priority\": \"u=1, i\",\n",
      "        \"referer\": \"https://www.marketwatch.com/search?q=natural%20gas&ts=5&sd=03%2F01%2F2024&ed=04%2F01%2F2024&tab=All%20News&pageNumber=1\",\n",
      "        \"sec-ch-device-memory\": \"8\",\n",
      "        \"sec-ch-ua-arch\": \"x86\",\n",
      "        \"sec-ch-ua-mobile\": \"?0\",\n",
      "        \"sec-ch-ua-model\": \"\",\n",
      "        \"sec-ch-ua-platform\": \"Windows\",\n",
      "        \"sec-fetch-dest\": \"empty\",\n",
      "        \"sec-fetch-mode\": \"cors\",\n",
      "        \"sec-fetch-site\": \"same-origin\",\n",
      "        \"traceparent\": \"00-6c4af97522db62e8e004a420a55a14b6-d33866c1f6fa5cbc-01\",\n",
      "        \"tracestate\": \"1022681@nr=0-1-1684273-754899382-d33866c1f6fa5cbc----1714832347082\",\n",
      "        \"user-agent\": \"Mozilla/5.0 (Windows NT 10.0; Win64; x64) AppleWebKit/537.36 (KHTML, like Gecko) Chrome/124.0.0.0 Safari/537.36\"\n",
      "    },\n",
      "    cookies={\n",
      "        \"AMCVS_CB68E4BA55144CAA0A4C98A5%40AdobeOrg\": \"1\",\n",
      "        \"AMCV_CB68E4BA55144CAA0A4C98A5%40AdobeOrg\": \"1585540135%7CMCIDTS%7C19848%7CMCMID%7C85637347026552322914309742615444452874%7CMCAAMLH-1715437127%7C7%7CMCAAMB-1715437127%7CRKhpRz8krg2tLO6pguXWp5olkAcUniQYPHaMWWgdJ3xzPWQmdj0y%7CMCOPTOUT-1714839528s%7CNONE%7CMCAID%7CNONE%7CvVersion%7C4.4.0\",\n",
      "        \"__eoi\": \"ID=b28565e0ebe9fa0c:T=1714832345:RT=1714832345:S=AA-AfjZHzlGLqqy6vp_o56BS1Sqn\",\n",
      "        \"__gads\": \"ID=15e0f355ec6479a2:T=1714832345:RT=1714832345:S=ALNI_MYg1vlnbgXQK6zuPvdLK4f8GqWLeQ\",\n",
      "        \"__gpi\": \"UID=00000dfd06568f2d:T=1714832345:RT=1714832345:S=ALNI_Ma6xawG7_O6eXp3BMtRBQiEFY-q9A\",\n",
      "        \"_dj_id.cff7\": \".1714832328.1.1714832328.1714832328.94c0976b-46e4-442f-a83a-7094d617604d\",\n",
      "        \"_dj_ses.cff7\": \"*\",\n",
      "        \"_dj_sp_id\": \"d2bd7665-7c5a-42d4-bdd1-0997df43050b\",\n",
      "        \"_fbp\": \"fb.1.1714832328456.565096108\",\n",
      "        \"_gcl_au\": \"1.1.740111044.1714832329\",\n",
      "        \"_lr_geo_location\": \"US\",\n",
      "        \"_lr_geo_location_state\": \"NY\",\n",
      "        \"_meta_cross_domain_id\": \"85f0d8aa-3fab-491c-852d-5c7315f82421\",\n",
      "        \"_meta_cross_domain_recheck\": \"1714832328796\",\n",
      "        \"_meta_facebookTag_sync\": \"1714832328456\",\n",
      "        \"_ncg_domain_id_\": \"afc269ad-ad21-4b5b-a8c6-385afa549ece.1.1714832328107.1777904328107\",\n",
      "        \"_ncg_g_id_\": \"f18f861e-cfce-4c14-bd45-4b17515106b5.3.1712330128.1777904328107\",\n",
      "        \"_ncg_id_\": \"4a5d0e62-9cc1-4018-94a9-d108d1026f6c\",\n",
      "        \"_ncg_sp_id.f57d\": \"4a5d0e62-9cc1-4018-94a9-d108d1026f6c.1714832328.1.1714832329..7e444741-d51a-4132-aa03-584ee5feb11f..42fed95e-5acb-478b-9eab-e3427c6e9ee1.1714832328233.3\",\n",
      "        \"_ncg_sp_ses.f57d\": \"*\",\n",
      "        \"_pcid\": \"%7B%22browserId%22%3A%22lvs6w4kvhoy4t31d%22%7D\",\n",
      "        \"_pctx\": \"%7Bu%7DN4IgrgzgpgThIC4B2YA2qA05owMoBcBDfSREQpAeyRCwgEt8oBJAEzIE4AmHgZi4CsvAIwB2DqIAMADkHTRvEAF8gA\",\n",
      "        \"_pnlspid\": \"11018\",\n",
      "        \"_pnss\": \"none\",\n",
      "        \"_pubcid\": \"6157263b-53a3-4284-b4b5-74adc3bcfceb\",\n",
      "        \"_pubcid_cst\": \"kSylLAssaw%3D%3D\",\n",
      "        \"_rdt_uuid\": \"1714832328305.45446486-56a1-4f63-9c11-fa621ea2389f\",\n",
      "        \"_scor_uid\": \"085e954bac9349bc830861950de62bef\",\n",
      "        \"_sp_su\": \"false\",\n",
      "        \"ab_uuid\": \"44fdec96-d52b-4e73-8c2c-519002ec53e3\",\n",
      "        \"ajs_anonymous_id\": \"3efed52a-511d-4f1b-9b78-3c40d062336a\",\n",
      "        \"cX_G\": \"cx%3A2sncjh13mlfa82qelqjrstho9h%3A1yqdkcza0sdwu\",\n",
      "        \"cX_P\": \"lvs6w4kvhoy4t31d\",\n",
      "        \"ccpaApplies\": \"false\",\n",
      "        \"ccpaUUID\": \"8bf5f977-ded3-4977-89d1-b2ae77e9e804\",\n",
      "        \"datadome\": \"v0pSezaEJYKq12~NjmlsZ2QfnUgUenjr8CBWzyAprGAPgxHYo6PoyGkSv4mip8HcEItCHRdqyti4MQYYkQ3mGILI1swjP_5mR3MWsFs8Kb4pQ0LAK88s0Zzg4rm8zjew\",\n",
      "        \"dnsDisplayed\": \"undefined\",\n",
      "        \"fullcss-section\": \"section-b1201b4c3a.min.css\",\n",
      "        \"gdprApplies\": \"false\",\n",
      "        \"icons-loaded\": \"true\",\n",
      "        \"letsGetMikey\": \"enabled\",\n",
      "        \"mw_loc\": \"%7B%22Region%22%3A%22NY%22%2C%22Country%22%3A%22US%22%2C%22Continent%22%3A%22NA%22%2C%22ApplicablePrivacy%22%3A0%7D\",\n",
      "        \"permutive-id\": \"5bde565c-3b5c-4549-b439-264ae36c1cae\",\n",
      "        \"pushly.user_puuid\": \"qfCU4uL7vqeJRt2mnbrMjQiz1i1vsXdC\",\n",
      "        \"refresh\": \"off\",\n",
      "        \"s_cc\": \"true\",\n",
      "        \"s_ppv\": \"MW_Search%2C84%2C84%2C3505.39990234375\",\n",
      "        \"s_tp\": \"4194\",\n",
      "        \"signedLspa\": \"undefined\",\n",
      "        \"utag_main\": \"v_id:018f43f8c41c009f28e6d96241b80506f006a06700978$_sn:1$_ss:1$_st:1714834127709$ses_id:1714832327709%3Bexp-session$_pn:1%3Bexp-session$_prevpage:MW_Search%3Bexp-1714835927713$vapi_domain:marketwatch.com\"\n",
      "    },\n",
      "    auth=(),\n",
      ")\n"
     ]
    }
   ],
   "source": [
    "next_page = uncurl.parse(\"curl 'https://www.marketwatch.com/search/moreHeadlines?q=natural%20gas&ts=5&sd=03%2F01%2F2024&ed=04%2F01%2F2024&partial=true&tab=All%20News&pageNumber=1' \\\n",
    "  -H 'accept: */*' \\\n",
    "  -H 'accept-language: en-US,en;q=0.9' \\\n",
    "  -H 'cookie: mw_loc=%7B%22Region%22%3A%22NY%22%2C%22Country%22%3A%22US%22%2C%22Continent%22%3A%22NA%22%2C%22ApplicablePrivacy%22%3A0%7D; gdprApplies=false; ab_uuid=44fdec96-d52b-4e73-8c2c-519002ec53e3; fullcss-section=section-b1201b4c3a.min.css; refresh=off; icons-loaded=true; pushly.user_puuid=qfCU4uL7vqeJRt2mnbrMjQiz1i1vsXdC; _pnss=none; letsGetMikey=enabled; _lr_geo_location_state=NY; _lr_geo_location=US; dnsDisplayed=undefined; ccpaApplies=false; signedLspa=undefined; _pubcid=6157263b-53a3-4284-b4b5-74adc3bcfceb; _pubcid_cst=kSylLAssaw%3D%3D; _sp_su=false; utag_main=v_id:018f43f8c41c009f28e6d96241b80506f006a06700978$_sn:1$_ss:1$_st:1714834127709$ses_id:1714832327709%3Bexp-session$_pn:1%3Bexp-session$_prevpage:MW_Search%3Bexp-1714835927713$vapi_domain:marketwatch.com; ccpaUUID=8bf5f977-ded3-4977-89d1-b2ae77e9e804; AMCVS_CB68E4BA55144CAA0A4C98A5%40AdobeOrg=1; s_cc=true; AMCV_CB68E4BA55144CAA0A4C98A5%40AdobeOrg=1585540135%7CMCIDTS%7C19848%7CMCMID%7C85637347026552322914309742615444452874%7CMCAAMLH-1715437127%7C7%7CMCAAMB-1715437127%7CRKhpRz8krg2tLO6pguXWp5olkAcUniQYPHaMWWgdJ3xzPWQmdj0y%7CMCOPTOUT-1714839528s%7CNONE%7CMCAID%7CNONE%7CvVersion%7C4.4.0; _pcid=%7B%22browserId%22%3A%22lvs6w4kvhoy4t31d%22%7D; cX_P=lvs6w4kvhoy4t31d; _pctx=%7Bu%7DN4IgrgzgpgThIC4B2YA2qA05owMoBcBDfSREQpAeyRCwgEt8oBJAEzIE4AmHgZi4CsvAIwB2DqIAMADkHTRvEAF8gA; _ncg_sp_ses.f57d=*; _ncg_id_=4a5d0e62-9cc1-4018-94a9-d108d1026f6c; _dj_ses.cff7=*; _dj_id.cff7=.1714832328.1.1714832328.1714832328.94c0976b-46e4-442f-a83a-7094d617604d; _rdt_uuid=1714832328305.45446486-56a1-4f63-9c11-fa621ea2389f; ajs_anonymous_id=3efed52a-511d-4f1b-9b78-3c40d062336a; _fbp=fb.1.1714832328456.565096108; _meta_facebookTag_sync=1714832328456; _ncg_domain_id_=afc269ad-ad21-4b5b-a8c6-385afa549ece.1.1714832328107.1777904328107; _gcl_au=1.1.740111044.1714832329; _scor_uid=085e954bac9349bc830861950de62bef; _dj_sp_id=d2bd7665-7c5a-42d4-bdd1-0997df43050b; _ncg_g_id_=f18f861e-cfce-4c14-bd45-4b17515106b5.3.1712330128.1777904328107; _meta_cross_domain_id=85f0d8aa-3fab-491c-852d-5c7315f82421; _meta_cross_domain_recheck=1714832328796; _ncg_sp_id.f57d=4a5d0e62-9cc1-4018-94a9-d108d1026f6c.1714832328.1.1714832329..7e444741-d51a-4132-aa03-584ee5feb11f..42fed95e-5acb-478b-9eab-e3427c6e9ee1.1714832328233.3; permutive-id=5bde565c-3b5c-4549-b439-264ae36c1cae; cX_G=cx%3A2sncjh13mlfa82qelqjrstho9h%3A1yqdkcza0sdwu; _pnlspid=11018; datadome=v0pSezaEJYKq12~NjmlsZ2QfnUgUenjr8CBWzyAprGAPgxHYo6PoyGkSv4mip8HcEItCHRdqyti4MQYYkQ3mGILI1swjP_5mR3MWsFs8Kb4pQ0LAK88s0Zzg4rm8zjew; __gads=ID=15e0f355ec6479a2:T=1714832345:RT=1714832345:S=ALNI_MYg1vlnbgXQK6zuPvdLK4f8GqWLeQ; __gpi=UID=00000dfd06568f2d:T=1714832345:RT=1714832345:S=ALNI_Ma6xawG7_O6eXp3BMtRBQiEFY-q9A; __eoi=ID=b28565e0ebe9fa0c:T=1714832345:RT=1714832345:S=AA-AfjZHzlGLqqy6vp_o56BS1Sqn; s_tp=4194; s_ppv=MW_Search%2C84%2C84%2C3505.39990234375' \\\n",
    "  -H 'newrelic: eyJ2IjpbMCwxXSwiZCI6eyJ0eSI6IkJyb3dzZXIiLCJhYyI6IjE2ODQyNzMiLCJhcCI6Ijc1NDg5OTM4MiIsImlkIjoiZDMzODY2YzFmNmZhNWNiYyIsInRyIjoiNmM0YWY5NzUyMmRiNjJlOGUwMDRhNDIwYTU1YTE0YjYiLCJ0aSI6MTcxNDgzMjM0NzA4MiwidGsiOiIxMDIyNjgxIn19' \\\n",
    "  -H 'priority: u=1, i' \\\n",
    "  -H 'referer: https://www.marketwatch.com/search?q=natural%20gas&ts=5&sd=03%2F01%2F2024&ed=04%2F01%2F2024&tab=All%20News&pageNumber=1' \\\n",
    "  -H 'sec-ch-device-memory: 8' \\\n",
    "  -H 'sec-ch-ua-arch: 'x86'' \\\n",
    "  -H 'sec-ch-ua-mobile: ?0' \\\n",
    "  -H 'sec-ch-ua-model: \"\"' \\\n",
    "  -H 'sec-ch-ua-platform: 'Windows'' \\\n",
    "  -H 'sec-fetch-dest: empty' \\\n",
    "  -H 'sec-fetch-mode: cors' \\\n",
    "  -H 'sec-fetch-site: same-origin' \\\n",
    "  -H 'traceparent: 00-6c4af97522db62e8e004a420a55a14b6-d33866c1f6fa5cbc-01' \\\n",
    "  -H 'tracestate: 1022681@nr=0-1-1684273-754899382-d33866c1f6fa5cbc----1714832347082' \\\n",
    "  -H 'user-agent: Mozilla/5.0 (Windows NT 10.0; Win64; x64) AppleWebKit/537.36 (KHTML, like Gecko) Chrome/124.0.0.0 Safari/537.36'\")\n",
    "\n",
    "print(next_page)"
   ]
  },
  {
   "cell_type": "code",
   "execution_count": 17,
   "metadata": {},
   "outputs": [],
   "source": [
    "def scrape_pages():\n",
    "\n",
    "    reqLink = \"https://www.marketwatch.com/search/moreHeadlines?q=natural%20gas&ts=5&sd=01%2F05%2F2007&ed=05%2F01%2F2024&partial=true&tab=All%20News&pageNumber=\"\n",
    "    accum = []\n",
    "    for i in range(1,501):\n",
    "        time.sleep(random.random()*2)\n",
    "        newLink = reqLink + str(i)\n",
    "        html = requests.get(newLink,\n",
    "    headers={\n",
    "        \"accept\": \"*/*\",\n",
    "        \"accept-language\": \"en-US,en;q=0.9\",\n",
    "        \"newrelic\": \"eyJ2IjpbMCwxXSwiZCI6eyJ0eSI6IkJyb3dzZXIiLCJhYyI6IjE2ODQyNzMiLCJhcCI6Ijc1NDg5OTM4MiIsImlkIjoiZDMzODY2YzFmNmZhNWNiYyIsInRyIjoiNmM0YWY5NzUyMmRiNjJlOGUwMDRhNDIwYTU1YTE0YjYiLCJ0aSI6MTcxNDgzMjM0NzA4MiwidGsiOiIxMDIyNjgxIn19\",\n",
    "        \"priority\": \"u=1, i\",\n",
    "        \"referer\": \"https://www.marketwatch.com/search?q=natural%20gas&ts=5&sd=03%2F01%2F2024&ed=04%2F01%2F2024&tab=All%20News&pageNumber=1\",\n",
    "        \"sec-ch-device-memory\": \"8\",\n",
    "        \"sec-ch-ua-arch\": \"x86\",\n",
    "        \"sec-ch-ua-mobile\": \"?0\",\n",
    "        \"sec-ch-ua-model\": \"\",\n",
    "        \"sec-ch-ua-platform\": \"Windows\",\n",
    "        \"sec-fetch-dest\": \"empty\",\n",
    "        \"sec-fetch-mode\": \"cors\",\n",
    "        \"sec-fetch-site\": \"same-origin\",\n",
    "        \"traceparent\": \"00-6c4af97522db62e8e004a420a55a14b6-d33866c1f6fa5cbc-01\",\n",
    "        \"tracestate\": \"1022681@nr=0-1-1684273-754899382-d33866c1f6fa5cbc----1714832347082\",\n",
    "        \"user-agent\": \"Mozilla/5.0 (Windows NT 10.0; Win64; x64) AppleWebKit/537.36 (KHTML, like Gecko) Chrome/124.0.0.0 Safari/537.36\"\n",
    "    },\n",
    "    cookies={\n",
    "        \"AMCVS_CB68E4BA55144CAA0A4C98A5%40AdobeOrg\": \"1\",\n",
    "        \"AMCV_CB68E4BA55144CAA0A4C98A5%40AdobeOrg\": \"1585540135%7CMCIDTS%7C19848%7CMCMID%7C85637347026552322914309742615444452874%7CMCAAMLH-1715437127%7C7%7CMCAAMB-1715437127%7CRKhpRz8krg2tLO6pguXWp5olkAcUniQYPHaMWWgdJ3xzPWQmdj0y%7CMCOPTOUT-1714839528s%7CNONE%7CMCAID%7CNONE%7CvVersion%7C4.4.0\",\n",
    "        \"__eoi\": \"ID=b28565e0ebe9fa0c:T=1714832345:RT=1714832345:S=AA-AfjZHzlGLqqy6vp_o56BS1Sqn\",\n",
    "        \"__gads\": \"ID=15e0f355ec6479a2:T=1714832345:RT=1714832345:S=ALNI_MYg1vlnbgXQK6zuPvdLK4f8GqWLeQ\",\n",
    "        \"__gpi\": \"UID=00000dfd06568f2d:T=1714832345:RT=1714832345:S=ALNI_Ma6xawG7_O6eXp3BMtRBQiEFY-q9A\",\n",
    "        \"_dj_id.cff7\": \".1714832328.1.1714832328.1714832328.94c0976b-46e4-442f-a83a-7094d617604d\",\n",
    "        \"_dj_ses.cff7\": \"*\",\n",
    "        \"_dj_sp_id\": \"d2bd7665-7c5a-42d4-bdd1-0997df43050b\",\n",
    "        \"_fbp\": \"fb.1.1714832328456.565096108\",\n",
    "        \"_gcl_au\": \"1.1.740111044.1714832329\",\n",
    "        \"_lr_geo_location\": \"US\",\n",
    "        \"_lr_geo_location_state\": \"NY\",\n",
    "        \"_meta_cross_domain_id\": \"85f0d8aa-3fab-491c-852d-5c7315f82421\",\n",
    "        \"_meta_cross_domain_recheck\": \"1714832328796\",\n",
    "        \"_meta_facebookTag_sync\": \"1714832328456\",\n",
    "        \"_ncg_domain_id_\": \"afc269ad-ad21-4b5b-a8c6-385afa549ece.1.1714832328107.1777904328107\",\n",
    "        \"_ncg_g_id_\": \"f18f861e-cfce-4c14-bd45-4b17515106b5.3.1712330128.1777904328107\",\n",
    "        \"_ncg_id_\": \"4a5d0e62-9cc1-4018-94a9-d108d1026f6c\",\n",
    "        \"_ncg_sp_id.f57d\": \"4a5d0e62-9cc1-4018-94a9-d108d1026f6c.1714832328.1.1714832329..7e444741-d51a-4132-aa03-584ee5feb11f..42fed95e-5acb-478b-9eab-e3427c6e9ee1.1714832328233.3\",\n",
    "        \"_ncg_sp_ses.f57d\": \"*\",\n",
    "        \"_pcid\": \"%7B%22browserId%22%3A%22lvs6w4kvhoy4t31d%22%7D\",\n",
    "        \"_pctx\": \"%7Bu%7DN4IgrgzgpgThIC4B2YA2qA05owMoBcBDfSREQpAeyRCwgEt8oBJAEzIE4AmHgZi4CsvAIwB2DqIAMADkHTRvEAF8gA\",\n",
    "        \"_pnlspid\": \"11018\",\n",
    "        \"_pnss\": \"none\",\n",
    "        \"_pubcid\": \"6157263b-53a3-4284-b4b5-74adc3bcfceb\",\n",
    "        \"_pubcid_cst\": \"kSylLAssaw%3D%3D\",\n",
    "        \"_rdt_uuid\": \"1714832328305.45446486-56a1-4f63-9c11-fa621ea2389f\",\n",
    "        \"_scor_uid\": \"085e954bac9349bc830861950de62bef\",\n",
    "        \"_sp_su\": \"false\",\n",
    "        \"ab_uuid\": \"44fdec96-d52b-4e73-8c2c-519002ec53e3\",\n",
    "        \"ajs_anonymous_id\": \"3efed52a-511d-4f1b-9b78-3c40d062336a\",\n",
    "        \"cX_G\": \"cx%3A2sncjh13mlfa82qelqjrstho9h%3A1yqdkcza0sdwu\",\n",
    "        \"cX_P\": \"lvs6w4kvhoy4t31d\",\n",
    "        \"ccpaApplies\": \"false\",\n",
    "        \"ccpaUUID\": \"8bf5f977-ded3-4977-89d1-b2ae77e9e804\",\n",
    "        \"datadome\": \"v0pSezaEJYKq12~NjmlsZ2QfnUgUenjr8CBWzyAprGAPgxHYo6PoyGkSv4mip8HcEItCHRdqyti4MQYYkQ3mGILI1swjP_5mR3MWsFs8Kb4pQ0LAK88s0Zzg4rm8zjew\",\n",
    "        \"dnsDisplayed\": \"undefined\",\n",
    "        \"fullcss-section\": \"section-b1201b4c3a.min.css\",\n",
    "        \"gdprApplies\": \"false\",\n",
    "        \"icons-loaded\": \"true\",\n",
    "        \"letsGetMikey\": \"enabled\",\n",
    "        \"mw_loc\": \"%7B%22Region%22%3A%22NY%22%2C%22Country%22%3A%22US%22%2C%22Continent%22%3A%22NA%22%2C%22ApplicablePrivacy%22%3A0%7D\",\n",
    "        \"permutive-id\": \"5bde565c-3b5c-4549-b439-264ae36c1cae\",\n",
    "        \"pushly.user_puuid\": \"qfCU4uL7vqeJRt2mnbrMjQiz1i1vsXdC\",\n",
    "        \"refresh\": \"off\",\n",
    "        \"s_cc\": \"true\",\n",
    "        \"s_ppv\": \"MW_Search%2C84%2C84%2C3505.39990234375\",\n",
    "        \"s_tp\": \"4194\",\n",
    "        \"signedLspa\": \"undefined\",\n",
    "        \"utag_main\": \"v_id:018f43f8c41c009f28e6d96241b80506f006a06700978$_sn:1$_ss:1$_st:1714834127709$ses_id:1714832327709%3Bexp-session$_pn:1%3Bexp-session$_prevpage:MW_Search%3Bexp-1714835927713$vapi_domain:marketwatch.com\"\n",
    "    },\n",
    "    auth=(),\n",
    ")\n",
    "        soup = BeautifulSoup(html.text, \"lxml\")\n",
    "        articles = soup.find_all('div', class_=\"article__content\")\n",
    "        for j in articles:\n",
    "\n",
    "            #get the title and clean the string of whitespace\n",
    "            title = j.find('a').stripped_strings\n",
    "\n",
    "            #making a title and date tuple\n",
    "            title_date = []\n",
    "\n",
    "            #I hope there is only one title per article\n",
    "            for string in title:\n",
    "                title_date.append(string)\n",
    "\n",
    "            #get the date from the timestamp span\n",
    "            timestamp = j.find('span',class_=\"article__timestamp\")\n",
    "            if timestamp:\n",
    "                title_date.append(timestamp[\"data-est\"])\n",
    "            else:\n",
    "                continue\n",
    "\n",
    "            token = tokenizer(title_date[0], return_tensors=\"pt\", padding=True)\n",
    "            fin_out = finbert(**token)[0]\n",
    "            val = labels[np.argmax(fin_out.detach().numpy())]\n",
    "            title_date.append((val, test_out.detach().tolist())[0])\n",
    "            accum.append(title_date)\n",
    "    return accum"
   ]
  },
  {
   "cell_type": "code",
   "execution_count": 18,
   "metadata": {},
   "outputs": [
    {
     "name": "stdout",
     "output_type": "stream",
     "text": [
      "[['Ariston Subsidiary Placed Under Management of Gazprom', '2024-04-29T03:16:00', 'neutral'], [\"Sinopec's Net Profit Declined on Higher Costs\", '2024-04-28T21:11:00', 'negative'], ['Energy Drops After Mixed Earnings -- Energy Roundup', '2024-04-26T17:26:00', 'negative'], ['These Stocks Moved the Most Today: Alphabet, Microsoft, Intel, Snap, Exxon, Roku, Skechers, ResMed, and More', '2024-04-26T16:12:00', 'neutral'], ['Oil prices score weekly gain, breaking run of back-to-back weekly losses', '2024-04-26T15:26:00', 'neutral'], [\"Mexico's Pemex 1Q Profit Falls on Lower Sales, Less Exchange Gains\", '2024-04-26T13:20:00', 'negative'], ['Chevron’s stock pulls back as profit drops amid plunge in natural-gas prices', '2024-04-26T12:23:00', 'negative'], ['Exxon Mobil’s stock falls after profit and production drop below forecasts', '2024-04-26T11:53:00', 'negative'], ['Exxon and Chevron Stocks Fall After Earnings. The Bar Was High.', '2024-04-26T11:07:00', 'positive'], ['Imperial Oil 1Q Net Income Falls', '2024-04-26T08:26:00', 'neutral'], ['Mexico Posts $2.1 Billion March Trade Surplus', '2024-04-26T08:26:00', 'neutral'], ['LyondellBasell 1Q Revenue Beats Estimates Despite Declining', '2024-04-26T06:50:00', 'positive'], ['TotalEnergies chief says oil major will consider moving main listing to New York', '2024-04-26T05:44:00', 'neutral'], ['TotalEnergies to Buy Back $2 Bln of Shares After Net Profit Rises -- 3rd Update', '2024-04-26T05:42:00', 'positive'], ['The Board of Directors of TotalEnergies Reaffirms the Relevance of Unified Governance in Order to Pursue the Transition Strategy of the Company', '2024-04-26T04:18:00', 'positive'], ['TotalEnergies to Buy Back $2 Bln of Shares After Net Profit Rises -- 2nd Update', '2024-04-26T03:56:00', 'positive'], ['TotalEnergies Ranks 1(st) in Employee Shareholder Ownership in Europe at over EUR11 billion of its Capital', '2024-04-26T03:50:00', 'neutral'], ['TotalEnergies SE: First Quarter 2024 Results', '2024-04-26T03:30:00', 'neutral'], ['Advantage Energy 1Q Production Rises 14% -- Energy Comment', '2024-04-25T19:00:00', 'positive'], ['Energy Climbs as Traders Digest GDP Data -- Energy Roundup', '2024-04-25T17:09:00', 'positive'], ['Oil prices give up losses to settle at a more than 1-week high', '2024-04-25T15:19:00', 'negative'], ['GE Vernova Stock Bounces Back After Earnings. Here’s Why.', '2024-04-25T14:44:00', 'neutral'], ['Honda and Partners to Invest C$15 Billion in EV Production and EV Batteries in Canada --Update', '2024-04-25T11:57:00', 'neutral'], ['Persistently High Commodity Prices Could Delay Interest Rate Cuts, World Bank Says', '2024-04-25T07:00:00', 'negative'], ['Repsol 1Q Total Average Production 590,000 BOE/D', '2024-04-25T02:46:00', 'neutral'], ['Whitecap Resources Boosts 2024 Production Guidance Again -- Energy Comment', '2024-04-24T17:43:00', 'positive'], ['Energy Flat as Traders Digest Supply Data -- Energy Roundup', '2024-04-24T16:57:00', 'neutral'], ['Oil prices end lower on weak U.S. gasoline demand', '2024-04-24T15:13:00', 'negative'], ['Analysts See 80 Billion-Cubic-Foot Increase in U.S. Natural Gas Inventories', '2024-04-24T13:04:00', 'neutral'], ['Norfolk Southern says Baltimore bridge collapse’s cost is more than $25 million per month', '2024-04-24T12:57:00', 'neutral'], [\"TotalEnergies and Vanguard Renewables, a Portfolio Company of BlackRock's Diversified Infrastructure Business, Join Forces to Develop Renewable Natural Gas in the United States\", '2024-04-24T02:29:00', 'neutral'], ['Eni 1Q Hydrocarbon Production 1.74M BOE/D', '2024-04-24T02:23:00', 'neutral'], ['Republic of Congo: TotalEnergies Increases Its Interest in Giant Field Moho and Divests Two Mature Assets', '2024-04-24T02:10:00', 'neutral'], ['Air Liquide continues its trajectory with another solid quarter, combining sales growth, performance improvement and investment momentum', '2024-04-24T01:20:00', 'positive'], ['EQT Corporation Updates Natural-Gas Sales -- Commodity Comment', '2024-04-23T19:12:00', 'neutral'], ['Beach Energy Sees Annual Oil, Gas Output at Low End of Guidance Range', '2024-04-23T19:06:00', 'neutral'], ['Matador Resources Sees 2024 Oil Output at High End of Estimates -- Energy Comment', '2024-04-23T17:06:00', 'neutral'], ['Oil prices finish higher as traders weigh potential for disruptions to Middle East supplies', '2024-04-23T15:43:00', 'negative'], ['Brent oil ends at a more than 3-week low as Middle East tensions appear to ease', '2024-04-22T15:22:00', 'negative'], ['What’s Stabilizing Oil Markets in an Era of Unprecedented Turmoil', '2024-04-22T14:54:00', 'negative'], ['Ex-Merrill Lynch Advisor With $820 Million Jumps to LPL Financial', '2024-04-22T12:34:00', 'neutral'], ['TotalEnergies: Disclosure of Transactions in Own Shares', '2024-04-22T12:00:00', 'neutral'], [\"TotalEnergies to Buy Remaining Stake in OMV's Malaysian Gas Venture for $530M\", '2024-04-22T06:56:00', 'neutral'], ['TotalEnergies Signs an Agreement in View of Acquiring the Remaining 50% of SapuraOMV, a Significant Upstream Gas Operator in Malaysia', '2024-04-22T06:32:00', 'neutral'], ['TotalEnergies Signs an Agreement in View of Acquiring the Remaining 50% of SapuraOMV, a Significant Upstream Gas Operator in Malaysia', '2024-04-22T06:32:00', 'neutral'], ['Oman: TotalEnergies Launches the Marsa LNG Project and Deploys It Multi-energy Strategy in the Sultanate of Oman', '2024-04-22T02:48:00', 'neutral'], ['‘Punishing myself would not help’: My credit card was stolen — the theft revealed lots of nasty surprises about my finances', '2024-04-21T08:09:00', 'negative'], ['Buffalo Bills owner Terry Pegula exploring sale of minority stake in NFL team', '2024-04-19T19:25:00', 'neutral'], ['Natural Gas Is Cheap. Why Electricity Isn’t.', '2024-04-19T19:16:00', 'neutral'], ['Energy Shares Gain as Israel Strikes Back at Iran -- Energy Roundup', '2024-04-19T17:43:00', 'positive'], ['Oil ends below the day’s highs as panic eases over Israel’s retaliation against Iran', '2024-04-19T15:40:00', 'negative'], [\"U.S. Finalizes Rule to Limit Oil Development in Alaska's Petroleum Reserve -- OPIS\", '2024-04-19T13:02:00', 'neutral'], ['New Jersey Resources to Switch 70 Medium-Duty Trucks to Renewable Diesel -- OPIS', '2024-04-19T10:37:00', 'neutral'], ['Woodside 1Q Revenue Falls 12% on Lower Prices, Volumes', '2024-04-18T19:15:00', 'negative'], ['Global oil prices fall for fourth straight session, with demand and Middle East risks in focus', '2024-04-18T15:03:00', 'negative'], ['Analysts Expect 45 Billion-Cubic-Foot Rise in U.S. Natural-Gas Inventories', '2024-04-18T09:00:00', 'positive'], ['Santos 1Q Oil, Natural Gas Output Falls 7% -- Update', '2024-04-17T19:28:00', 'negative'], ['Santos 1Q Oil, Natural Gas Output Falls 7%', '2024-04-17T19:10:00', 'negative'], ['Liberty Energy Expects Natural-Gas Prices to Rise -- Commodity Comment', '2024-04-17T17:26:00', 'neutral'], ['CSX Sees Robust Export Coal Demand -- Commodity Comment', '2024-04-17T16:57:00', 'positive'], ['Oil prices settle at three-week low with U.S. supplies up a fourth week in a row', '2024-04-17T16:37:00', 'neutral'], ['Kinder Morgan 1Q Profit Up, Boosted By Pipelines, Terminals Businesses', '2024-04-17T16:26:00', 'positive'], ['Analysts Expect 45 Billion-Cubic-Foot Rise in U.S. Natural-Gas Inventories', '2024-04-17T13:13:00', 'positive'], ['A New Buy Rating Pushes Up GE Vernova Stock, Finally', '2024-04-17T13:01:00', 'positive'], ['12 top places to live in Colorado', '2024-04-17T05:01:00', 'neutral'], ['Energy Down With Oil as Israel Response Seen Restrained -- Energy Roundup', '2024-04-16T18:00:00', 'negative'], ['Exterra, Energir Team Up to Develop Carbon Management Landscape in Quebec -- OPIS', '2024-04-16T15:54:00', 'neutral'], ['Oil posts back-to-back losses, suffering from ‘uneasy calm’ on Middle East tensions', '2024-04-16T15:06:00', 'negative'], ['Canada Inflation Ticks Up in March to 2.9% -- 3rd Update', '2024-04-16T14:34:00', 'neutral'], ['Canada Inflation Ticks Up in March to 2.9% -- 2nd Update', '2024-04-16T11:56:00', 'neutral'], ['U.S. industrial output rises modestly for second straight month in March', '2024-04-16T10:28:00', 'positive'], ['Bitcoin Was Left for Dead. Why Wall Street Is Bringing It Back to Life.', '2024-04-09T08:53:00', 'neutral'], ['Electricity Bills Are Going Up—and Show No Sign of Slowing', '2024-04-16T10:15:00', 'neutral'], ['Canada Inflation Ticks Up in March to 2.9% -- Update', '2024-04-16T08:41:00', 'neutral'], ['TotalEnergies SE: First Quarter 2024: Main Indicators', '2024-04-16T02:32:00', 'neutral'], ['TotalEnergies SE: First Quarter 2024: Main Indicators', '2024-04-16T02:32:00', 'neutral'], ['Oil prices end lower, failing to find much support from Iran’s attack on Israel', '2024-04-15T15:18:00', 'negative'], ['EIA Data Shows Oil Output Continues to Grow at Faster-Than-Expected Rate -- OPIS', '2024-04-15T13:35:00', 'positive'], ['TotalEnergies: Disclosure of Transactions in Own Shares', '2024-04-15T12:40:00', 'neutral'], ['GE Vernova Stock Is Getting No Help From Buy Rating. Here’s Why.', '2024-04-15T11:28:00', 'negative'], ['EQT to Sell Interest in Pennsylvania Assets for $500M in Cash, Assets', '2024-04-15T08:26:00', 'neutral'], ['Biden to host Iraqi leader as tensions remain high across Middle East after Iran attacks Israel', '2024-04-15T02:48:00', 'neutral'], ['Johnson says he’ll push for House vote on Israel and Ukraine aid this week', '2024-04-14T16:18:00', 'neutral'], ['This quality approach to a cheap part of the stock market garners a five-star rating', '2024-04-13T07:14:00', 'positive'], ['Oil and gas companies must pay more to drill on federal lands under new Biden administration rule', '2024-04-13T06:59:00', 'neutral'], ['Genco Shipping, TD Synnex, and More Stocks See Action From Activist Investors', '2024-04-12T18:40:00', 'neutral'], ['Plastic Is Everywhere. Now Big Oil Companies Are Producing Even More of It.', '2024-04-12T15:55:00', 'neutral'], ['Oil prices end with weekly loss as traders weigh risk of Iran attack on Israel', '2024-04-12T15:17:00', 'negative'], ['Argan Shares Jump 24% Following 4Q Revenue Growth on Developing Projects', '2024-04-12T10:39:00', 'positive'], ['Paramount Resources Trims Stake in NuVista Energy for C$75 Mln', '2024-04-12T07:18:00', 'neutral'], ['Inflation is ‘thorn’ in market’s side — but these ETFs rose even as stocks, bonds fell', '2024-04-11T17:57:00', 'neutral'], ['Oil prices settle lower as traders weigh risks of an Iranian attack on Israel', '2024-04-11T15:19:00', 'positive'], ['Peabody Flags Drop in Revenue After Production Issues', '2024-04-11T09:04:00', 'negative'], ['Analysts Expect 11 Billion-Cubic-Foot Rise in U.S. Natural-Gas Inventories', '2024-04-11T09:00:00', 'positive'], ['Energy Rise With Oil Futures -- Energy Roundup', '2024-04-10T16:55:00', 'neutral'], ['Oil prices finish higher on talk of potential for Iran strike on Israel', '2024-04-10T15:13:00', 'positive'], ['Analysts Expect 11 Billion-Cubic-Foot Rise in U.S. Natural-Gas Inventories', '2024-04-10T13:10:00', 'positive'], [\"Canada's Cenovus to Spend $1.5 Billion on Ohio Refineries -- OPIS\", '2024-04-10T12:12:00', 'neutral'], ['Air Liquide Further Develops Its Biomethane Capacities in the U.S. with Two New Production Units', '2024-04-10T11:45:00', 'neutral'], ['Air Liquide Further Develops Its Biomethane Capacities in the U.S. with Two New Production Units', '2024-04-10T11:45:00', 'neutral']]\n"
     ]
    }
   ],
   "source": [
    "pages = scrape_pages()\n",
    "print(pages[:100])"
   ]
  },
  {
   "cell_type": "code",
   "execution_count": 19,
   "metadata": {},
   "outputs": [],
   "source": [
    "import json\n",
    "with open('data.json', 'w', encoding='utf-8') as f:\n",
    "    json.dump(pages, f, ensure_ascii=False, indent=4)\n"
   ]
  },
  {
   "cell_type": "code",
   "execution_count": 20,
   "metadata": {},
   "outputs": [
    {
     "name": "stdout",
     "output_type": "stream",
     "text": [
      "8982\n"
     ]
    }
   ],
   "source": [
    "print(len(pages))"
   ]
  }
 ],
 "metadata": {
  "kernelspec": {
   "display_name": "cse578",
   "language": "python",
   "name": "python3"
  },
  "language_info": {
   "codemirror_mode": {
    "name": "ipython",
    "version": 3
   },
   "file_extension": ".py",
   "mimetype": "text/x-python",
   "name": "python",
   "nbconvert_exporter": "python",
   "pygments_lexer": "ipython3",
   "version": "3.10.13"
  }
 },
 "nbformat": 4,
 "nbformat_minor": 2
}
